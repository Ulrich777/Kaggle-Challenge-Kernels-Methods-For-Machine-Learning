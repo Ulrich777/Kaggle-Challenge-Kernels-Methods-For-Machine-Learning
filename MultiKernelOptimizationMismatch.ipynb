{
 "cells": [
  {
   "cell_type": "markdown",
   "metadata": {},
   "source": [
    "## EARLIER EXPERIMENTS"
   ]
  },
  {
   "cell_type": "code",
   "execution_count": 1,
   "metadata": {},
   "outputs": [],
   "source": [
    "import pandas as pd\n",
    "import numpy as np\n",
    "#import networkx as nx\n",
    "import sys\n",
    "\n",
    "# for the bag of word features \n",
    "from sklearn.feature_extraction.text import CountVectorizer, TfidfVectorizer\n",
    "\n",
    "# stable numerical implementation of sigmoid\n",
    "import scipy\n",
    "from scipy.special import expit"
   ]
  },
  {
   "cell_type": "code",
   "execution_count": 2,
   "metadata": {},
   "outputs": [],
   "source": [
    "import cvxopt\n",
    "from cvxopt import matrix, spmatrix, solvers"
   ]
  },
  {
   "cell_type": "code",
   "execution_count": 3,
   "metadata": {},
   "outputs": [],
   "source": [
    "from sklearn.metrics.pairwise import cosine_similarity\n",
    "#cosine_similarity(X, Y)"
   ]
  },
  {
   "cell_type": "code",
   "execution_count": 4,
   "metadata": {},
   "outputs": [],
   "source": [
    "import time"
   ]
  },
  {
   "cell_type": "code",
   "execution_count": 5,
   "metadata": {},
   "outputs": [],
   "source": [
    "import Levenshtein"
   ]
  },
  {
   "cell_type": "code",
   "execution_count": 6,
   "metadata": {},
   "outputs": [],
   "source": [
    "def get_exp_mismatch_matrix(words, _lambda):\n",
    "    N = len(words)\n",
    "\n",
    "    exp_mismatch_matrix = np.zeros((N, N))\n",
    "    for i in range(N):\n",
    "        exp_mismatch_matrix[i,i] = 1\n",
    "        for j in range(i+1, N):\n",
    "            exp_mismatch_matrix[i,j] = _lambda**Levenshtein.hamming(words[i], words[j])\n",
    "            exp_mismatch_matrix[j,i] = exp_mismatch_matrix[i,j]\n",
    "\n",
    "    return exp_mismatch_matrix"
   ]
  },
  {
   "cell_type": "code",
   "execution_count": 7,
   "metadata": {},
   "outputs": [],
   "source": [
    "def load_sequence(kind='X', root='tr', number=3):\n",
    "    seqs =  [pd.read_csv('./data/%s%s%d.csv'%(kind, root, d)) for d in range(number)]\n",
    "    \n",
    "    if kind == 'X':\n",
    "            df = pd.DataFrame(columns=['Id','seq'])\n",
    "    else:\n",
    "            df= pd.DataFrame(columns=['Id','Bound'])\n",
    "    \n",
    "    for seq in seqs:\n",
    "        \n",
    "        df = df.append(seq, ignore_index=True)\n",
    "        \n",
    "    return df\n",
    "\n",
    "def load_features(root='tr', number=3):\n",
    "    kind = 'X'\n",
    "    \n",
    "    feats =  [np.loadtxt('./data/%s%s%d_mat100.csv'%(kind, root, d)) for d in range(number)]\n",
    "        \n",
    "    return  np.vstack((feat for feat in feats))\n",
    "\n",
    "\n",
    "def getKmers(sequence, size=5):\n",
    "    return [sequence[x:x+size].lower() for x in range(len(sequence) - size + 1)]\n",
    "\n",
    "\n",
    "def get_features(dF, size=5, normed=False, rang=(4,4)):\n",
    "    df = dF.copy()\n",
    "    \n",
    "    df['words'] = df.apply(lambda x: getKmers(x['seq'], size=size), axis=1)\n",
    "    df = df.drop('seq', axis=1)\n",
    "\n",
    "    texts = list(df['words'])\n",
    "    for item in range(len(texts)):\n",
    "        texts[item] = ' '.join(df.iloc[item,1])\n",
    "    \n",
    "    if normed:\n",
    "        cv = TfidfVectorizer(ngram_range=rang)\n",
    "    else:\n",
    "        cv = CountVectorizer(ngram_range= rang)\n",
    "    X = cv.fit_transform(texts)\n",
    "    return X\n",
    "\n",
    "def get_mismatch(dF, size=5, thres=2000, normed=False, gamma=0.4):\n",
    "    df = dF.copy()\n",
    "    \n",
    "    df['words'] = df.apply(lambda x: getKmers(x['seq'], size=size), axis=1)\n",
    "    df = df.drop('seq', axis=1)\n",
    "\n",
    "    texts = list(df['words'])\n",
    "    for item in range(len(texts)):\n",
    "        texts[item] = ' '.join(df.iloc[item,1])\n",
    "    \n",
    "    if normed:\n",
    "        cv = TfidfVectorizer()\n",
    "    else:\n",
    "        cv = CountVectorizer()\n",
    "    X = cv.fit_transform(texts)\n",
    "    \n",
    "    words = list(cv.get_feature_names())\n",
    "    S = get_exp_mismatch_matrix(words, 0.3)\n",
    "    \n",
    "    k_xx = X[:thres] @ S @ X[:thres].T\n",
    "    k_yx = X[thres:] @ S @ X[:thres].T\n",
    "    \n",
    "    return k_xx, k_yx"
   ]
  },
  {
   "cell_type": "code",
   "execution_count": 8,
   "metadata": {},
   "outputs": [],
   "source": [
    "def save_my_kernels(df, dg,  k=0, sizes=[3,4,5,6,7]):\n",
    "    tt = time.time()\n",
    "    \n",
    "    for size in sizes:\n",
    "        print('Doing size: ', size)\n",
    "        dF = df.iloc[2000*k:2000*(k+1)].append(dg.iloc[1000*k:1000*(k+1)])\n",
    "        k_xx, k_yx = get_mismatch(dF, size=size, thres=2000, normed=False)\n",
    "        np.savetxt('./mykernels/k_xx_%d_%d.txt'%(k, size), k_xx)\n",
    "        np.savetxt('./mykernels/k_yx_%d_%d.txt'%(k, size), k_yx)\n",
    "\n",
    "\n",
    "    tt = time.time() - tt\n",
    "    print('done is %.3f seconds'%(tt/60))"
   ]
  },
  {
   "cell_type": "code",
   "execution_count": null,
   "metadata": {},
   "outputs": [],
   "source": []
  },
  {
   "cell_type": "code",
   "execution_count": null,
   "metadata": {},
   "outputs": [],
   "source": []
  },
  {
   "cell_type": "code",
   "execution_count": 9,
   "metadata": {},
   "outputs": [],
   "source": [
    "sequences_train = load_sequence(number=3)\n",
    "sequences_test = load_sequence(number=3, root='te')\n",
    "labels_train = load_sequence(kind='Y' ,root='tr', number=3)"
   ]
  },
  {
   "cell_type": "code",
   "execution_count": 10,
   "metadata": {},
   "outputs": [
    {
     "data": {
      "text/plain": [
       "((3000, 2), (6000, 2), (6000, 2))"
      ]
     },
     "execution_count": 10,
     "metadata": {},
     "output_type": "execute_result"
    }
   ],
   "source": [
    "sequences_test.shape, labels_train.shape, sequences_train.shape"
   ]
  },
  {
   "cell_type": "code",
   "execution_count": 11,
   "metadata": {},
   "outputs": [],
   "source": [
    "all_labels = labels_train.Bound.values.astype(int)"
   ]
  },
  {
   "cell_type": "code",
   "execution_count": null,
   "metadata": {},
   "outputs": [],
   "source": []
  },
  {
   "cell_type": "code",
   "execution_count": 12,
   "metadata": {},
   "outputs": [],
   "source": [
    "sizes =  [3, 4, 5, 6, 7]"
   ]
  },
  {
   "cell_type": "code",
   "execution_count": 13,
   "metadata": {},
   "outputs": [],
   "source": [
    "YET_TO_SAVE = False\n",
    "\n",
    "if YET_TO_SAVE:\n",
    "    save_my_kernels(sequences_train, sequences_test, k=0, sizes=sizes)\n",
    "    save_my_kernels(sequences_train, sequences_test, k=1, sizes=sizes)\n",
    "    save_my_kernels(sequences_train, sequences_test, k=2, sizes=sizes)"
   ]
  },
  {
   "cell_type": "code",
   "execution_count": null,
   "metadata": {},
   "outputs": [],
   "source": []
  },
  {
   "cell_type": "code",
   "execution_count": 15,
   "metadata": {},
   "outputs": [],
   "source": [
    "def build_training(k, sizes=[4,5], normed=False, rang=(4,4), gamma=0.4):\n",
    "    dataset = pd.DataFrame()\n",
    "    dataset = dataset.append(sequences_train.iloc[2000*k:2000*(k+1)])\n",
    "    dataset =  dataset.append(sequences_test.iloc[1000*k:1000*(k+1)])\n",
    "\n",
    "    K_xx, K_yx = [], []\n",
    "    \n",
    "    for size in sizes:\n",
    "        print('counting for size %d '%size)\n",
    "        counts = get_features(dataset, size=size, normed=normed, rang=rang)\n",
    "\n",
    "        counts_train = counts[:2000]\n",
    "        counts_test = counts[2000:]\n",
    "        print('computing classical training kernel for size %d '%size)\n",
    "        k_xx = np.dot(counts_train, counts_train.T).toarray()\n",
    "        print('computing classical testing kernel for size %d '%size)\n",
    "        k_yx = np.dot(counts_test, counts_train.T).toarray()\n",
    "        K_xx.append(k_xx)\n",
    "        K_yx.append(k_yx)\n",
    "        \n",
    "        #k_xx, k_yx = get_mismatch(dataset, size=size, thres=2000, normed=normed, gamma=gamma)\n",
    "        print('loading special training kernel for size %d '%size)\n",
    "        k_xx = np.loadtxt('./mykernels/k_xx_%d_%d.txt'%(k, size))\n",
    "        print('loading special test kernel for size %d '%size)\n",
    "        k_yx = np.loadtxt('./mykernels/k_yx_%d_%d.txt'%(k, size))\n",
    "        K_xx.append(k_xx)\n",
    "        K_yx.append(k_yx)\n",
    "    \n",
    "    y_train = all_labels[2000*k:2000*(k+1)]\n",
    "    \n",
    "    return np.array(K_xx), np.array(K_yx), y_train"
   ]
  },
  {
   "cell_type": "markdown",
   "metadata": {},
   "source": [
    "## THE PYTHON CLASS FOR KERNEL LOGISTIC REGRESSION"
   ]
  },
  {
   "cell_type": "code",
   "execution_count": 16,
   "metadata": {},
   "outputs": [],
   "source": [
    "class MultiKerOpt():\n",
    "    \n",
    "    def __init__(self, alpha=0.01, tol=1e-07, degree=2, method='klr', hide=False):\n",
    "        self.alpha = alpha\n",
    "        self.tol = tol\n",
    "        self.degree = degree\n",
    "        self.method = method\n",
    "        self.hide  = hide\n",
    "        \n",
    "    def scale(self, u, norm):\n",
    "        if norm=='l1':\n",
    "            return u/np.sum(u)\n",
    "        elif norm=='l2':\n",
    "            return u / np.sqrt(np.sum(u**2))\n",
    "        else:\n",
    "            raise Exception('l1 and l2 are the only available norms')\n",
    "            \n",
    "    def bound(self, u, u_0, gamma, norm):\n",
    "        u__ = u - u_0\n",
    "        u__ = np.abs(self.scale(u__, norm) * gamma)\n",
    "        return u__ + u_0\n",
    "    \n",
    "    def KrrIterate(self, Kernels, y, coef, weights = None):\n",
    "        K_w = np.sum((Kernels * coef[:, None, None]), axis=0) ** self.degree\n",
    "        N, D = K_w.shape\n",
    "        if weights is None:\n",
    "            c = np.linalg.solve(np.linalg.inv(K_w + self.alpha * np.eye(N, D)), y[:, np.newaxis])\n",
    "        else:\n",
    "            W_r = np.diag(np.sqrt(weights))\n",
    "            A = W_r.dot(K_w).dot(W_r) + self.alpha * np.eye(N,D)\n",
    "            Y = np.dot(W_r, y[:, np.newaxis])\n",
    "            x_sol = np.linalg.solve(A, Y)\n",
    "            c = np.dot(W_r, x_sol)\n",
    "        return c\n",
    "    \n",
    "    def KlrIterate(self, Kernels, y, coef, tol=1e-07, max_iters=5):\n",
    "        c_old = self.KrrIterate(Kernels, y, coef)\n",
    "        K_w = np.sum((Kernels * coef[:, None, None]), axis=0) ** self.degree\n",
    "        y_enc = 2*y-1\n",
    "        \n",
    "        for i in range(max_iters):\n",
    "            m_t = np.dot(K_w, c_old)\n",
    "            p_t = -expit(-y_enc[:, np.newaxis]*m_t)\n",
    "            w_t = expit(m_t)*expit(-m_t)\n",
    "            z_t = m_t - (p_t * y_enc[:, np.newaxis]) /(w_t+ 1e-05)\n",
    "            c_new = self.KrrIterate(Kernels, z_t.flatten(), coef, weights=w_t.flatten())\n",
    "            if np.linalg.norm(c_new - c_old)<tol:\n",
    "                break\n",
    "            else:\n",
    "                c_old = c_new\n",
    "        return c_old\n",
    "\n",
    "    def SvmIterate(self, Kernels, y, coef):\n",
    "        nb_samples = y.shape[0]\n",
    "        C = 1 / ( 2 * self.alpha * nb_samples)\n",
    "        \n",
    "        r = np.arange(nb_samples)\n",
    "        o = np.ones(nb_samples)\n",
    "        z = np.zeros(nb_samples)\n",
    "            \n",
    "        K_w  = np.sum(Kernels * coef[:, None, None], axis=0) ** (self.degree)\n",
    "        \n",
    "        y_enc = 2*y-1\n",
    "        \n",
    "        P = matrix(K_w.astype(float), tc='d')\n",
    "        q = matrix(-y_enc, tc='d')\n",
    "        G = spmatrix(np.r_[y_enc, -y_enc], np.r_[r, r + nb_samples], np.r_[r, r], tc='d')\n",
    "        h = matrix(np.r_[o * C, z], tc='d')\n",
    "        \n",
    "        if self.hide:\n",
    "            solvers.options['show_progress'] = False\n",
    "        sol = solvers.qp(P, q, G, h)\n",
    "        c = np.ravel(sol['x'])[:,np.newaxis]\n",
    "        \n",
    "        return c\n",
    "    \n",
    "    def gradUpdate(self, Kernels, coef, delta):\n",
    "        K_t = np.sum(Kernels * coef[:, None, None], axis=0) ** (self.degree-1)\n",
    "        grad = np.zeros(len(Kernels))\n",
    "        for m in range(len(Kernels)):\n",
    "            grad[m] = delta.T.dot((K_t * Kernels[m])).dot(delta)\n",
    "            \n",
    "        return - self.degree * grad\n",
    "    \n",
    "    def fit(self, Kernels, y, u_0=0, gamma=1, norm='l2', n_iter=5, step=1, weights=None):\n",
    "        coef = np.random.normal(0, 1, len(Kernels)) / len(Kernels)\n",
    "        coef = self.bound(coef, u_0, gamma, norm)\n",
    "        new_coef = 0\n",
    "        \n",
    "        score_prev = np.inf\n",
    "        \n",
    "        for i in range(n_iter):\n",
    "            #print(i+1)\n",
    "            if self.method=='klr':\n",
    "                delta = self.KlrIterate(Kernels, y, coef, tol=1e-07, max_iters=5)\n",
    "            elif self.method=='svm':\n",
    "                delta = self.SvmIterate(Kernels, y, coef)\n",
    "            else:\n",
    "                delta = self.KrrIterate(Kernels, y, coef, weights = weights)\n",
    "                \n",
    "            grad = self.gradUpdate(Kernels, coef, delta)\n",
    "            \n",
    "            new_coef = coef - step * grad\n",
    "            new_coef = self.bound(new_coef, u_0, gamma, norm)\n",
    "            \n",
    "            score = np.linalg.norm(new_coef - coef, np.inf)\n",
    "            \n",
    "            if score>score_prev:\n",
    "                step *= 0.9\n",
    "                \n",
    "            if score<self.tol:\n",
    "                self.coef = coef\n",
    "                self.delta = delta\n",
    "            \n",
    "            coef = new_coef\n",
    "            score_prev = score.copy()\n",
    "            \n",
    "        self.coef, self.delta = coef, delta\n",
    "        #return new_coef\n",
    "    def predict(self, Kernels):\n",
    "        K_w = np.sum(Kernels * self.coef[:, None, None], axis=0) ** (self.degree)\n",
    "        y__ = np.sign(K_w.dot(self.delta)).flatten()\n",
    "        if self.method != 'krr':\n",
    "            y__ = 0.5 * (y__ + 1)\n",
    "        return y__\n",
    "    \n",
    "    def score(self, Kernels, y):\n",
    "        y__ = self.predict(Kernels)\n",
    "        if self.method!='krr':\n",
    "            score = 100*(y__==y).mean()\n",
    "        else:\n",
    "            score = np.mean((y__- y)**2)\n",
    "        return score\n",
    "                "
   ]
  },
  {
   "cell_type": "code",
   "execution_count": 17,
   "metadata": {},
   "outputs": [],
   "source": [
    "def CvSearch(K_xx, K_yx, y, method='svm', degrees=[4], alphas=[0.01], cv=5):\n",
    "    tt = time.time()\n",
    "    \n",
    "    n_iters = cv * len(degrees) * len(alphas)\n",
    "    \n",
    "    n_samples = y.shape[0]\n",
    "    \n",
    "    DEG, ALPH, TRAIN, VAL = [], [], [], []\n",
    "    \n",
    "    i=0\n",
    "    \n",
    "    for degree in degrees:\n",
    "        for alpha in alphas:\n",
    "            DEG.append(degree)\n",
    "            ALPH.append(alpha)\n",
    "            \n",
    "            #SPLITTING\n",
    "            INDS = np.array(range(n_samples))\n",
    "            idx = np.random.permutation(n_samples)\n",
    "            INDS = INDS[idx]\n",
    "            \n",
    "            vals = np.array_split(INDS, cv)\n",
    "            \n",
    "            perfs_train = []\n",
    "            perfs_val = []\n",
    "            \n",
    "            for val in vals:\n",
    "                i += 1 \n",
    "                sys.stderr.write('\\rIteration %d/%d -- degree %d --alpha %.3f' %(i, n_iters, degree, alpha))\n",
    "                sys.stderr.flush()\n",
    "                \n",
    "                train = np.setdiff1d(range(n_samples),val)\n",
    "                \n",
    "                clf = MultiKerOpt(alpha=alpha, tol=1e-07, degree=degree, method=method, hide=True)\n",
    "                \n",
    "                clf.fit(K_xx[:,train.reshape(-1,1), train], y[train])\n",
    "                \n",
    "                score_train = clf.score(K_xx[:,train.reshape(-1,1), train], y[train])\n",
    "                \n",
    "                score_val =  clf.score(K_xx[:,val.reshape(-1,1), train], y[val])\n",
    "                \n",
    "                perfs_train.append(score_train)\n",
    "                perfs_val.append(score_val)\n",
    "                \n",
    "            TRAIN.append(np.mean(np.array(perfs_train)))\n",
    "            VAL.append(np.mean(np.array(perfs_val)))\n",
    "            \n",
    "    df = pd.DataFrame({'degree':DEG, 'alpha':ALPH, 'train':TRAIN, 'val':VAL})\n",
    "    \n",
    "    tt = time.time() - tt\n",
    "    print('Done in %.3f'%(tt/60))\n",
    "    \n",
    "    return df\n",
    "#"
   ]
  },
  {
   "cell_type": "code",
   "execution_count": 18,
   "metadata": {},
   "outputs": [],
   "source": [
    "def get_best(df):\n",
    "    idx = np.argmax(df.val.values)\n",
    "    best = np.max(df.val.values)\n",
    "\n",
    "    best_degree = df.degree[idx]\n",
    "    best_alpha = df.alpha[idx]\n",
    "    return best_degree, best_alpha, best"
   ]
  },
  {
   "cell_type": "code",
   "execution_count": 19,
   "metadata": {},
   "outputs": [
    {
     "name": "stdout",
     "output_type": "stream",
     "text": [
      "[0.001, 0.01, 0.1, 1, 10]\n"
     ]
    }
   ],
   "source": [
    "REG_PARAMS_SPAN = [10**i for i in range(-3, 2)] #+ [10**i/2 for i in range(-10, 10)]\n",
    "print(REG_PARAMS_SPAN)"
   ]
  },
  {
   "cell_type": "markdown",
   "metadata": {},
   "source": [
    "## DATASET 0"
   ]
  },
  {
   "cell_type": "code",
   "execution_count": 20,
   "metadata": {},
   "outputs": [
    {
     "name": "stdout",
     "output_type": "stream",
     "text": [
      "counting for size 4 \n",
      "computing classical training kernel for size 4 \n",
      "computing classical testing kernel for size 4 \n",
      "loading special training kernel for size 4 \n",
      "loading special test kernel for size 4 \n",
      "counting for size 5 \n",
      "computing classical training kernel for size 5 \n",
      "computing classical testing kernel for size 5 \n",
      "loading special training kernel for size 5 \n",
      "loading special test kernel for size 5 \n",
      "counting for size 6 \n",
      "computing classical training kernel for size 6 \n",
      "computing classical testing kernel for size 6 \n",
      "loading special training kernel for size 6 \n",
      "loading special test kernel for size 6 \n",
      "counting for size 7 \n",
      "computing classical training kernel for size 7 \n",
      "computing classical testing kernel for size 7 \n",
      "loading special training kernel for size 7 \n",
      "loading special test kernel for size 7 \n"
     ]
    }
   ],
   "source": [
    "K_xx_0, X_yx_0, y_train_0 = build_training(0, sizes=[4,5,6,7], normed=False, rang=(4,4))"
   ]
  },
  {
   "cell_type": "code",
   "execution_count": 21,
   "metadata": {},
   "outputs": [
    {
     "name": "stdout",
     "output_type": "stream",
     "text": [
      "(8, 2000, 2000) (8, 1000, 2000) (2000,)\n"
     ]
    }
   ],
   "source": [
    "print(K_xx_0.shape, X_yx_0.shape, y_train_0.shape)"
   ]
  },
  {
   "cell_type": "code",
   "execution_count": 22,
   "metadata": {},
   "outputs": [
    {
     "name": "stderr",
     "output_type": "stream",
     "text": [
      "Iteration 75/75 "
     ]
    },
    {
     "name": "stdout",
     "output_type": "stream",
     "text": [
      "Done in 10.482\n"
     ]
    }
   ],
   "source": [
    "RUN = False\n",
    "\n",
    "if RUN:\n",
    "    df  = CvSearch(K_xx_0, X_yx_0, y_train_0, method='svm', degrees=[1, 2, 3], \n",
    "               alphas=REG_PARAMS_SPAN, cv=5)\n",
    "    df.to_csv('./CV/X0_cv5_linear_kmers_mis.csv', index=False)\n",
    "else:\n",
    "    df = pd.read_csv('./CV/X0_cv5_linear_kmers_mis.csv')"
   ]
  },
  {
   "cell_type": "code",
   "execution_count": 23,
   "metadata": {},
   "outputs": [
    {
     "data": {
      "text/html": [
       "<div>\n",
       "<style scoped>\n",
       "    .dataframe tbody tr th:only-of-type {\n",
       "        vertical-align: middle;\n",
       "    }\n",
       "\n",
       "    .dataframe tbody tr th {\n",
       "        vertical-align: top;\n",
       "    }\n",
       "\n",
       "    .dataframe thead th {\n",
       "        text-align: right;\n",
       "    }\n",
       "</style>\n",
       "<table border=\"1\" class=\"dataframe\">\n",
       "  <thead>\n",
       "    <tr style=\"text-align: right;\">\n",
       "      <th></th>\n",
       "      <th>degree</th>\n",
       "      <th>alpha</th>\n",
       "      <th>train</th>\n",
       "      <th>val</th>\n",
       "    </tr>\n",
       "  </thead>\n",
       "  <tbody>\n",
       "    <tr>\n",
       "      <th>0</th>\n",
       "      <td>1</td>\n",
       "      <td>0.001</td>\n",
       "      <td>100.0000</td>\n",
       "      <td>62.40</td>\n",
       "    </tr>\n",
       "    <tr>\n",
       "      <th>1</th>\n",
       "      <td>1</td>\n",
       "      <td>0.010</td>\n",
       "      <td>100.0000</td>\n",
       "      <td>62.50</td>\n",
       "    </tr>\n",
       "    <tr>\n",
       "      <th>2</th>\n",
       "      <td>1</td>\n",
       "      <td>0.100</td>\n",
       "      <td>94.1875</td>\n",
       "      <td>62.60</td>\n",
       "    </tr>\n",
       "    <tr>\n",
       "      <th>3</th>\n",
       "      <td>1</td>\n",
       "      <td>1.000</td>\n",
       "      <td>56.5750</td>\n",
       "      <td>51.85</td>\n",
       "    </tr>\n",
       "    <tr>\n",
       "      <th>4</th>\n",
       "      <td>1</td>\n",
       "      <td>10.000</td>\n",
       "      <td>51.1625</td>\n",
       "      <td>51.15</td>\n",
       "    </tr>\n",
       "    <tr>\n",
       "      <th>5</th>\n",
       "      <td>2</td>\n",
       "      <td>0.001</td>\n",
       "      <td>100.0000</td>\n",
       "      <td>63.25</td>\n",
       "    </tr>\n",
       "    <tr>\n",
       "      <th>6</th>\n",
       "      <td>2</td>\n",
       "      <td>0.010</td>\n",
       "      <td>100.0000</td>\n",
       "      <td>63.35</td>\n",
       "    </tr>\n",
       "    <tr>\n",
       "      <th>7</th>\n",
       "      <td>2</td>\n",
       "      <td>0.100</td>\n",
       "      <td>100.0000</td>\n",
       "      <td>62.15</td>\n",
       "    </tr>\n",
       "    <tr>\n",
       "      <th>8</th>\n",
       "      <td>2</td>\n",
       "      <td>1.000</td>\n",
       "      <td>100.0000</td>\n",
       "      <td>62.25</td>\n",
       "    </tr>\n",
       "    <tr>\n",
       "      <th>9</th>\n",
       "      <td>2</td>\n",
       "      <td>10.000</td>\n",
       "      <td>100.0000</td>\n",
       "      <td>61.50</td>\n",
       "    </tr>\n",
       "    <tr>\n",
       "      <th>10</th>\n",
       "      <td>3</td>\n",
       "      <td>0.001</td>\n",
       "      <td>100.0000</td>\n",
       "      <td>63.25</td>\n",
       "    </tr>\n",
       "    <tr>\n",
       "      <th>11</th>\n",
       "      <td>3</td>\n",
       "      <td>0.010</td>\n",
       "      <td>100.0000</td>\n",
       "      <td>63.70</td>\n",
       "    </tr>\n",
       "    <tr>\n",
       "      <th>12</th>\n",
       "      <td>3</td>\n",
       "      <td>0.100</td>\n",
       "      <td>100.0000</td>\n",
       "      <td>61.60</td>\n",
       "    </tr>\n",
       "    <tr>\n",
       "      <th>13</th>\n",
       "      <td>3</td>\n",
       "      <td>1.000</td>\n",
       "      <td>100.0000</td>\n",
       "      <td>63.50</td>\n",
       "    </tr>\n",
       "    <tr>\n",
       "      <th>14</th>\n",
       "      <td>3</td>\n",
       "      <td>10.000</td>\n",
       "      <td>100.0000</td>\n",
       "      <td>63.35</td>\n",
       "    </tr>\n",
       "  </tbody>\n",
       "</table>\n",
       "</div>"
      ],
      "text/plain": [
       "    degree   alpha     train    val\n",
       "0        1   0.001  100.0000  62.40\n",
       "1        1   0.010  100.0000  62.50\n",
       "2        1   0.100   94.1875  62.60\n",
       "3        1   1.000   56.5750  51.85\n",
       "4        1  10.000   51.1625  51.15\n",
       "5        2   0.001  100.0000  63.25\n",
       "6        2   0.010  100.0000  63.35\n",
       "7        2   0.100  100.0000  62.15\n",
       "8        2   1.000  100.0000  62.25\n",
       "9        2  10.000  100.0000  61.50\n",
       "10       3   0.001  100.0000  63.25\n",
       "11       3   0.010  100.0000  63.70\n",
       "12       3   0.100  100.0000  61.60\n",
       "13       3   1.000  100.0000  63.50\n",
       "14       3  10.000  100.0000  63.35"
      ]
     },
     "execution_count": 23,
     "metadata": {},
     "output_type": "execute_result"
    }
   ],
   "source": [
    "df"
   ]
  },
  {
   "cell_type": "code",
   "execution_count": 24,
   "metadata": {},
   "outputs": [
    {
     "name": "stdout",
     "output_type": "stream",
     "text": [
      "3 0.01 63.7\n"
     ]
    }
   ],
   "source": [
    "best_degree_0, best_alpha_0, best_0 = get_best(df)\n",
    "print(best_degree_0, best_alpha_0, best_0)"
   ]
  },
  {
   "cell_type": "code",
   "execution_count": 34,
   "metadata": {},
   "outputs": [],
   "source": [
    "clf0 = MultiKerOpt(alpha=best_alpha_0, tol=1e-07, degree=best_degree_0, method='svm', hide=False)\n",
    "clf0.fit(K_xx_0, y_train_0, n_iter=5)\n",
    "y_pred_0 = clf0.predict(X_yx_0)"
   ]
  },
  {
   "cell_type": "code",
   "execution_count": 35,
   "metadata": {},
   "outputs": [
    {
     "name": "stdout",
     "output_type": "stream",
     "text": [
      "0.4885 0.488\n"
     ]
    }
   ],
   "source": [
    "print(y_train_0.mean(), y_pred_0.mean())"
   ]
  },
  {
   "cell_type": "code",
   "execution_count": null,
   "metadata": {},
   "outputs": [],
   "source": []
  },
  {
   "cell_type": "markdown",
   "metadata": {},
   "source": [
    "## DATASET 1"
   ]
  },
  {
   "cell_type": "code",
   "execution_count": 25,
   "metadata": {},
   "outputs": [
    {
     "name": "stdout",
     "output_type": "stream",
     "text": [
      "counting for size 4 \n",
      "computing classical training kernel for size 4 \n",
      "computing classical testing kernel for size 4 \n",
      "loading special training kernel for size 4 \n",
      "loading special test kernel for size 4 \n",
      "counting for size 5 \n",
      "computing classical training kernel for size 5 \n",
      "computing classical testing kernel for size 5 \n",
      "loading special training kernel for size 5 \n",
      "loading special test kernel for size 5 \n",
      "counting for size 6 \n",
      "computing classical training kernel for size 6 \n",
      "computing classical testing kernel for size 6 \n",
      "loading special training kernel for size 6 \n",
      "loading special test kernel for size 6 \n"
     ]
    }
   ],
   "source": [
    "K_xx_1, X_yx_1, y_train_1 = build_training(1, sizes=[4,5,6], normed=False, rang=(4,4))"
   ]
  },
  {
   "cell_type": "code",
   "execution_count": 26,
   "metadata": {},
   "outputs": [
    {
     "name": "stderr",
     "output_type": "stream",
     "text": [
      "Iteration 75/75 "
     ]
    },
    {
     "name": "stdout",
     "output_type": "stream",
     "text": [
      "Done in 8.930\n"
     ]
    }
   ],
   "source": [
    "RUN = False\n",
    "\n",
    "if RUN:\n",
    "    df1  = CvSearch(K_xx_1, X_yx_1, y_train_1, method='svm', degrees=[1, 2, 3], \n",
    "               alphas=REG_PARAMS_SPAN, cv=5)\n",
    "    df1.to_csv('./CV/X1_cv5_linear_kmers_mis.csv', index=False)\n",
    "else:\n",
    "    df1 = pd.read_csv('./CV/X1_cv5_linear_kmers_mis.csv')"
   ]
  },
  {
   "cell_type": "code",
   "execution_count": 27,
   "metadata": {},
   "outputs": [
    {
     "data": {
      "text/html": [
       "<div>\n",
       "<style scoped>\n",
       "    .dataframe tbody tr th:only-of-type {\n",
       "        vertical-align: middle;\n",
       "    }\n",
       "\n",
       "    .dataframe tbody tr th {\n",
       "        vertical-align: top;\n",
       "    }\n",
       "\n",
       "    .dataframe thead th {\n",
       "        text-align: right;\n",
       "    }\n",
       "</style>\n",
       "<table border=\"1\" class=\"dataframe\">\n",
       "  <thead>\n",
       "    <tr style=\"text-align: right;\">\n",
       "      <th></th>\n",
       "      <th>degree</th>\n",
       "      <th>alpha</th>\n",
       "      <th>train</th>\n",
       "      <th>val</th>\n",
       "    </tr>\n",
       "  </thead>\n",
       "  <tbody>\n",
       "    <tr>\n",
       "      <th>0</th>\n",
       "      <td>1</td>\n",
       "      <td>0.001</td>\n",
       "      <td>100.0000</td>\n",
       "      <td>74.45</td>\n",
       "    </tr>\n",
       "    <tr>\n",
       "      <th>1</th>\n",
       "      <td>1</td>\n",
       "      <td>0.010</td>\n",
       "      <td>100.0000</td>\n",
       "      <td>75.25</td>\n",
       "    </tr>\n",
       "    <tr>\n",
       "      <th>2</th>\n",
       "      <td>1</td>\n",
       "      <td>0.100</td>\n",
       "      <td>94.3875</td>\n",
       "      <td>74.20</td>\n",
       "    </tr>\n",
       "    <tr>\n",
       "      <th>3</th>\n",
       "      <td>1</td>\n",
       "      <td>1.000</td>\n",
       "      <td>68.5500</td>\n",
       "      <td>63.40</td>\n",
       "    </tr>\n",
       "    <tr>\n",
       "      <th>4</th>\n",
       "      <td>1</td>\n",
       "      <td>10.000</td>\n",
       "      <td>57.8625</td>\n",
       "      <td>52.50</td>\n",
       "    </tr>\n",
       "    <tr>\n",
       "      <th>5</th>\n",
       "      <td>2</td>\n",
       "      <td>0.001</td>\n",
       "      <td>100.0000</td>\n",
       "      <td>75.65</td>\n",
       "    </tr>\n",
       "    <tr>\n",
       "      <th>6</th>\n",
       "      <td>2</td>\n",
       "      <td>0.010</td>\n",
       "      <td>100.0000</td>\n",
       "      <td>74.75</td>\n",
       "    </tr>\n",
       "    <tr>\n",
       "      <th>7</th>\n",
       "      <td>2</td>\n",
       "      <td>0.100</td>\n",
       "      <td>100.0000</td>\n",
       "      <td>74.50</td>\n",
       "    </tr>\n",
       "    <tr>\n",
       "      <th>8</th>\n",
       "      <td>2</td>\n",
       "      <td>1.000</td>\n",
       "      <td>100.0000</td>\n",
       "      <td>75.45</td>\n",
       "    </tr>\n",
       "    <tr>\n",
       "      <th>9</th>\n",
       "      <td>2</td>\n",
       "      <td>10.000</td>\n",
       "      <td>100.0000</td>\n",
       "      <td>74.50</td>\n",
       "    </tr>\n",
       "    <tr>\n",
       "      <th>10</th>\n",
       "      <td>3</td>\n",
       "      <td>0.001</td>\n",
       "      <td>100.0000</td>\n",
       "      <td>75.55</td>\n",
       "    </tr>\n",
       "    <tr>\n",
       "      <th>11</th>\n",
       "      <td>3</td>\n",
       "      <td>0.010</td>\n",
       "      <td>100.0000</td>\n",
       "      <td>74.50</td>\n",
       "    </tr>\n",
       "    <tr>\n",
       "      <th>12</th>\n",
       "      <td>3</td>\n",
       "      <td>0.100</td>\n",
       "      <td>100.0000</td>\n",
       "      <td>75.10</td>\n",
       "    </tr>\n",
       "    <tr>\n",
       "      <th>13</th>\n",
       "      <td>3</td>\n",
       "      <td>1.000</td>\n",
       "      <td>100.0000</td>\n",
       "      <td>74.10</td>\n",
       "    </tr>\n",
       "    <tr>\n",
       "      <th>14</th>\n",
       "      <td>3</td>\n",
       "      <td>10.000</td>\n",
       "      <td>100.0000</td>\n",
       "      <td>74.30</td>\n",
       "    </tr>\n",
       "  </tbody>\n",
       "</table>\n",
       "</div>"
      ],
      "text/plain": [
       "    degree   alpha     train    val\n",
       "0        1   0.001  100.0000  74.45\n",
       "1        1   0.010  100.0000  75.25\n",
       "2        1   0.100   94.3875  74.20\n",
       "3        1   1.000   68.5500  63.40\n",
       "4        1  10.000   57.8625  52.50\n",
       "5        2   0.001  100.0000  75.65\n",
       "6        2   0.010  100.0000  74.75\n",
       "7        2   0.100  100.0000  74.50\n",
       "8        2   1.000  100.0000  75.45\n",
       "9        2  10.000  100.0000  74.50\n",
       "10       3   0.001  100.0000  75.55\n",
       "11       3   0.010  100.0000  74.50\n",
       "12       3   0.100  100.0000  75.10\n",
       "13       3   1.000  100.0000  74.10\n",
       "14       3  10.000  100.0000  74.30"
      ]
     },
     "execution_count": 27,
     "metadata": {},
     "output_type": "execute_result"
    }
   ],
   "source": [
    "df1"
   ]
  },
  {
   "cell_type": "code",
   "execution_count": 28,
   "metadata": {},
   "outputs": [
    {
     "name": "stdout",
     "output_type": "stream",
     "text": [
      "2 0.001 75.65\n"
     ]
    }
   ],
   "source": [
    "best_degree_1, best_alpha_1, best_1 = get_best(df1)\n",
    "print(best_degree_1, best_alpha_1, best_1)"
   ]
  },
  {
   "cell_type": "code",
   "execution_count": 36,
   "metadata": {},
   "outputs": [],
   "source": [
    "clf1 = MultiKerOpt(alpha=best_alpha_1, tol=1e-07, degree=best_degree_1, method='svm')\n",
    "clf1.fit(K_xx_1, y_train_1, n_iter=5)\n",
    "y_pred_1 = clf1.predict(X_yx_1)"
   ]
  },
  {
   "cell_type": "code",
   "execution_count": 37,
   "metadata": {},
   "outputs": [
    {
     "name": "stdout",
     "output_type": "stream",
     "text": [
      "0.499 0.521\n"
     ]
    }
   ],
   "source": [
    "print(y_train_1.mean(), y_pred_1.mean())"
   ]
  },
  {
   "cell_type": "code",
   "execution_count": 38,
   "metadata": {},
   "outputs": [
    {
     "data": {
      "text/plain": [
       "'svm'"
      ]
     },
     "execution_count": 38,
     "metadata": {},
     "output_type": "execute_result"
    }
   ],
   "source": [
    "clf1.method"
   ]
  },
  {
   "cell_type": "markdown",
   "metadata": {},
   "source": [
    "## DATASET 2"
   ]
  },
  {
   "cell_type": "code",
   "execution_count": 29,
   "metadata": {},
   "outputs": [
    {
     "name": "stdout",
     "output_type": "stream",
     "text": [
      "counting for size 4 \n",
      "computing classical training kernel for size 4 \n",
      "computing classical testing kernel for size 4 \n",
      "loading special training kernel for size 4 \n",
      "loading special test kernel for size 4 \n",
      "counting for size 5 \n",
      "computing classical training kernel for size 5 \n",
      "computing classical testing kernel for size 5 \n",
      "loading special training kernel for size 5 \n",
      "loading special test kernel for size 5 \n",
      "counting for size 6 \n",
      "computing classical training kernel for size 6 \n",
      "computing classical testing kernel for size 6 \n",
      "loading special training kernel for size 6 \n",
      "loading special test kernel for size 6 \n",
      "counting for size 7 \n",
      "computing classical training kernel for size 7 \n",
      "computing classical testing kernel for size 7 \n",
      "loading special training kernel for size 7 \n",
      "loading special test kernel for size 7 \n"
     ]
    }
   ],
   "source": [
    "K_xx_2, X_yx_2, y_train_2 = build_training(2, sizes=[4,5,6,7], normed=False, rang=(4,4))"
   ]
  },
  {
   "cell_type": "code",
   "execution_count": 30,
   "metadata": {},
   "outputs": [
    {
     "name": "stderr",
     "output_type": "stream",
     "text": [
      "Iteration 75/75 "
     ]
    },
    {
     "name": "stdout",
     "output_type": "stream",
     "text": [
      "Done in 11.094\n"
     ]
    }
   ],
   "source": [
    "RUN = True\n",
    "if RUN:\n",
    "    df2  = CvSearch(K_xx_2, X_yx_2, y_train_2, method='svm', degrees=[1, 2, 3], \n",
    "               alphas=REG_PARAMS_SPAN, cv=5)\n",
    "    df2.to_csv('./CV/X2_cv5_linear_kmers_mis.csv', index=False)\n",
    "else:\n",
    "    df2 = pd.read_csv('./CV/X2_cv5_linear_kmers_mis.csv')"
   ]
  },
  {
   "cell_type": "code",
   "execution_count": 31,
   "metadata": {},
   "outputs": [
    {
     "data": {
      "text/html": [
       "<div>\n",
       "<style scoped>\n",
       "    .dataframe tbody tr th:only-of-type {\n",
       "        vertical-align: middle;\n",
       "    }\n",
       "\n",
       "    .dataframe tbody tr th {\n",
       "        vertical-align: top;\n",
       "    }\n",
       "\n",
       "    .dataframe thead th {\n",
       "        text-align: right;\n",
       "    }\n",
       "</style>\n",
       "<table border=\"1\" class=\"dataframe\">\n",
       "  <thead>\n",
       "    <tr style=\"text-align: right;\">\n",
       "      <th></th>\n",
       "      <th>degree</th>\n",
       "      <th>alpha</th>\n",
       "      <th>train</th>\n",
       "      <th>val</th>\n",
       "    </tr>\n",
       "  </thead>\n",
       "  <tbody>\n",
       "    <tr>\n",
       "      <th>0</th>\n",
       "      <td>1</td>\n",
       "      <td>0.001</td>\n",
       "      <td>100.00</td>\n",
       "      <td>65.00</td>\n",
       "    </tr>\n",
       "    <tr>\n",
       "      <th>1</th>\n",
       "      <td>1</td>\n",
       "      <td>0.010</td>\n",
       "      <td>100.00</td>\n",
       "      <td>65.30</td>\n",
       "    </tr>\n",
       "    <tr>\n",
       "      <th>2</th>\n",
       "      <td>1</td>\n",
       "      <td>0.100</td>\n",
       "      <td>95.00</td>\n",
       "      <td>65.55</td>\n",
       "    </tr>\n",
       "    <tr>\n",
       "      <th>3</th>\n",
       "      <td>1</td>\n",
       "      <td>1.000</td>\n",
       "      <td>60.90</td>\n",
       "      <td>60.05</td>\n",
       "    </tr>\n",
       "    <tr>\n",
       "      <th>4</th>\n",
       "      <td>1</td>\n",
       "      <td>10.000</td>\n",
       "      <td>60.05</td>\n",
       "      <td>59.15</td>\n",
       "    </tr>\n",
       "    <tr>\n",
       "      <th>5</th>\n",
       "      <td>2</td>\n",
       "      <td>0.001</td>\n",
       "      <td>100.00</td>\n",
       "      <td>64.55</td>\n",
       "    </tr>\n",
       "    <tr>\n",
       "      <th>6</th>\n",
       "      <td>2</td>\n",
       "      <td>0.010</td>\n",
       "      <td>100.00</td>\n",
       "      <td>67.25</td>\n",
       "    </tr>\n",
       "    <tr>\n",
       "      <th>7</th>\n",
       "      <td>2</td>\n",
       "      <td>0.100</td>\n",
       "      <td>100.00</td>\n",
       "      <td>64.65</td>\n",
       "    </tr>\n",
       "    <tr>\n",
       "      <th>8</th>\n",
       "      <td>2</td>\n",
       "      <td>1.000</td>\n",
       "      <td>100.00</td>\n",
       "      <td>65.85</td>\n",
       "    </tr>\n",
       "    <tr>\n",
       "      <th>9</th>\n",
       "      <td>2</td>\n",
       "      <td>10.000</td>\n",
       "      <td>100.00</td>\n",
       "      <td>65.25</td>\n",
       "    </tr>\n",
       "    <tr>\n",
       "      <th>10</th>\n",
       "      <td>3</td>\n",
       "      <td>0.001</td>\n",
       "      <td>100.00</td>\n",
       "      <td>65.85</td>\n",
       "    </tr>\n",
       "    <tr>\n",
       "      <th>11</th>\n",
       "      <td>3</td>\n",
       "      <td>0.010</td>\n",
       "      <td>100.00</td>\n",
       "      <td>65.30</td>\n",
       "    </tr>\n",
       "    <tr>\n",
       "      <th>12</th>\n",
       "      <td>3</td>\n",
       "      <td>0.100</td>\n",
       "      <td>100.00</td>\n",
       "      <td>65.80</td>\n",
       "    </tr>\n",
       "    <tr>\n",
       "      <th>13</th>\n",
       "      <td>3</td>\n",
       "      <td>1.000</td>\n",
       "      <td>100.00</td>\n",
       "      <td>65.80</td>\n",
       "    </tr>\n",
       "    <tr>\n",
       "      <th>14</th>\n",
       "      <td>3</td>\n",
       "      <td>10.000</td>\n",
       "      <td>100.00</td>\n",
       "      <td>66.50</td>\n",
       "    </tr>\n",
       "  </tbody>\n",
       "</table>\n",
       "</div>"
      ],
      "text/plain": [
       "    degree   alpha   train    val\n",
       "0        1   0.001  100.00  65.00\n",
       "1        1   0.010  100.00  65.30\n",
       "2        1   0.100   95.00  65.55\n",
       "3        1   1.000   60.90  60.05\n",
       "4        1  10.000   60.05  59.15\n",
       "5        2   0.001  100.00  64.55\n",
       "6        2   0.010  100.00  67.25\n",
       "7        2   0.100  100.00  64.65\n",
       "8        2   1.000  100.00  65.85\n",
       "9        2  10.000  100.00  65.25\n",
       "10       3   0.001  100.00  65.85\n",
       "11       3   0.010  100.00  65.30\n",
       "12       3   0.100  100.00  65.80\n",
       "13       3   1.000  100.00  65.80\n",
       "14       3  10.000  100.00  66.50"
      ]
     },
     "execution_count": 31,
     "metadata": {},
     "output_type": "execute_result"
    }
   ],
   "source": [
    "df2"
   ]
  },
  {
   "cell_type": "code",
   "execution_count": 32,
   "metadata": {},
   "outputs": [
    {
     "name": "stdout",
     "output_type": "stream",
     "text": [
      "2 0.01 67.25\n"
     ]
    }
   ],
   "source": [
    "best_degree_2, best_alpha_2, best_2 = get_best(df2)\n",
    "print(best_degree_2, best_alpha_2, best_2)"
   ]
  },
  {
   "cell_type": "code",
   "execution_count": 39,
   "metadata": {},
   "outputs": [],
   "source": [
    "clf2 = MultiKerOpt(alpha=best_alpha_2, tol=1e-07, degree=best_degree_2, method='svm')\n",
    "clf2.fit(K_xx_2, y_train_2, n_iter=5)\n",
    "y_pred_2 = clf2.predict(X_yx_2)"
   ]
  },
  {
   "cell_type": "code",
   "execution_count": 40,
   "metadata": {},
   "outputs": [
    {
     "name": "stdout",
     "output_type": "stream",
     "text": [
      "0.4995 0.436\n"
     ]
    }
   ],
   "source": [
    "print(y_train_2.mean(), y_pred_2.mean())"
   ]
  },
  {
   "cell_type": "code",
   "execution_count": null,
   "metadata": {},
   "outputs": [],
   "source": []
  },
  {
   "cell_type": "markdown",
   "metadata": {},
   "source": [
    "## PREDICTIONS FILES"
   ]
  },
  {
   "cell_type": "code",
   "execution_count": 33,
   "metadata": {},
   "outputs": [
    {
     "name": "stdout",
     "output_type": "stream",
     "text": [
      "68.86666666666667\n"
     ]
    }
   ],
   "source": [
    "exp_score = (1/3)*(best_0 + best_1 + best_2)\n",
    "print(exp_score)"
   ]
  },
  {
   "cell_type": "code",
   "execution_count": null,
   "metadata": {},
   "outputs": [],
   "source": []
  },
  {
   "cell_type": "code",
   "execution_count": 41,
   "metadata": {},
   "outputs": [],
   "source": [
    "y_pred = np.hstack((y_pred_0, y_pred_1, y_pred_2)).astype(int)"
   ]
  },
  {
   "cell_type": "code",
   "execution_count": 42,
   "metadata": {},
   "outputs": [
    {
     "data": {
      "text/plain": [
       "array([1, 0, 0, ..., 1, 0, 0])"
      ]
     },
     "execution_count": 42,
     "metadata": {},
     "output_type": "execute_result"
    }
   ],
   "source": [
    "y_pred"
   ]
  },
  {
   "cell_type": "code",
   "execution_count": 43,
   "metadata": {},
   "outputs": [],
   "source": [
    "Ids = np.array(range(3000))"
   ]
  },
  {
   "cell_type": "code",
   "execution_count": 44,
   "metadata": {},
   "outputs": [],
   "source": [
    "predictions = pd.DataFrame({'Id':Ids, 'Bound':y_pred.flatten()})"
   ]
  },
  {
   "cell_type": "code",
   "execution_count": 45,
   "metadata": {},
   "outputs": [
    {
     "data": {
      "text/html": [
       "<div>\n",
       "<style scoped>\n",
       "    .dataframe tbody tr th:only-of-type {\n",
       "        vertical-align: middle;\n",
       "    }\n",
       "\n",
       "    .dataframe tbody tr th {\n",
       "        vertical-align: top;\n",
       "    }\n",
       "\n",
       "    .dataframe thead th {\n",
       "        text-align: right;\n",
       "    }\n",
       "</style>\n",
       "<table border=\"1\" class=\"dataframe\">\n",
       "  <thead>\n",
       "    <tr style=\"text-align: right;\">\n",
       "      <th></th>\n",
       "      <th>Id</th>\n",
       "      <th>Bound</th>\n",
       "    </tr>\n",
       "  </thead>\n",
       "  <tbody>\n",
       "    <tr>\n",
       "      <th>0</th>\n",
       "      <td>0</td>\n",
       "      <td>1</td>\n",
       "    </tr>\n",
       "    <tr>\n",
       "      <th>1</th>\n",
       "      <td>1</td>\n",
       "      <td>0</td>\n",
       "    </tr>\n",
       "    <tr>\n",
       "      <th>2</th>\n",
       "      <td>2</td>\n",
       "      <td>0</td>\n",
       "    </tr>\n",
       "    <tr>\n",
       "      <th>3</th>\n",
       "      <td>3</td>\n",
       "      <td>1</td>\n",
       "    </tr>\n",
       "    <tr>\n",
       "      <th>4</th>\n",
       "      <td>4</td>\n",
       "      <td>0</td>\n",
       "    </tr>\n",
       "  </tbody>\n",
       "</table>\n",
       "</div>"
      ],
      "text/plain": [
       "   Id  Bound\n",
       "0   0      1\n",
       "1   1      0\n",
       "2   2      0\n",
       "3   3      1\n",
       "4   4      0"
      ]
     },
     "execution_count": 45,
     "metadata": {},
     "output_type": "execute_result"
    }
   ],
   "source": [
    "predictions.head()"
   ]
  },
  {
   "cell_type": "code",
   "execution_count": 46,
   "metadata": {},
   "outputs": [
    {
     "data": {
      "text/html": [
       "<div>\n",
       "<style scoped>\n",
       "    .dataframe tbody tr th:only-of-type {\n",
       "        vertical-align: middle;\n",
       "    }\n",
       "\n",
       "    .dataframe tbody tr th {\n",
       "        vertical-align: top;\n",
       "    }\n",
       "\n",
       "    .dataframe thead th {\n",
       "        text-align: right;\n",
       "    }\n",
       "</style>\n",
       "<table border=\"1\" class=\"dataframe\">\n",
       "  <thead>\n",
       "    <tr style=\"text-align: right;\">\n",
       "      <th></th>\n",
       "      <th>Id</th>\n",
       "      <th>Bound</th>\n",
       "    </tr>\n",
       "  </thead>\n",
       "  <tbody>\n",
       "    <tr>\n",
       "      <th>0</th>\n",
       "      <td>0</td>\n",
       "      <td>0</td>\n",
       "    </tr>\n",
       "    <tr>\n",
       "      <th>1</th>\n",
       "      <td>1</td>\n",
       "      <td>1</td>\n",
       "    </tr>\n",
       "    <tr>\n",
       "      <th>2</th>\n",
       "      <td>2</td>\n",
       "      <td>1</td>\n",
       "    </tr>\n",
       "    <tr>\n",
       "      <th>3</th>\n",
       "      <td>3</td>\n",
       "      <td>0</td>\n",
       "    </tr>\n",
       "    <tr>\n",
       "      <th>4</th>\n",
       "      <td>4</td>\n",
       "      <td>1</td>\n",
       "    </tr>\n",
       "  </tbody>\n",
       "</table>\n",
       "</div>"
      ],
      "text/plain": [
       "  Id Bound\n",
       "0  0     0\n",
       "1  1     1\n",
       "2  2     1\n",
       "3  3     0\n",
       "4  4     1"
      ]
     },
     "execution_count": 46,
     "metadata": {},
     "output_type": "execute_result"
    }
   ],
   "source": [
    "labels_train.head()"
   ]
  },
  {
   "cell_type": "code",
   "execution_count": 47,
   "metadata": {},
   "outputs": [],
   "source": [
    "predictions.to_csv('predictions10.csv', index=False)"
   ]
  },
  {
   "cell_type": "code",
   "execution_count": null,
   "metadata": {},
   "outputs": [],
   "source": []
  }
 ],
 "metadata": {
  "kernelspec": {
   "display_name": "Python 3",
   "language": "python",
   "name": "python3"
  },
  "language_info": {
   "codemirror_mode": {
    "name": "ipython",
    "version": 3
   },
   "file_extension": ".py",
   "mimetype": "text/x-python",
   "name": "python",
   "nbconvert_exporter": "python",
   "pygments_lexer": "ipython3",
   "version": "3.6.7"
  }
 },
 "nbformat": 4,
 "nbformat_minor": 2
}
