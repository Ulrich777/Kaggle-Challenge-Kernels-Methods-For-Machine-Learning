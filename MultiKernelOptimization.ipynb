{
 "cells": [
  {
   "cell_type": "markdown",
   "metadata": {},
   "source": [
    "## EARLIER EXPERIMENTS"
   ]
  },
  {
   "cell_type": "code",
   "execution_count": 1,
   "metadata": {},
   "outputs": [],
   "source": [
    "import pandas as pd\n",
    "import numpy as np\n",
    "#import networkx as nx\n",
    "import sys\n",
    "\n",
    "# for the bag of word features \n",
    "from sklearn.feature_extraction.text import CountVectorizer, TfidfVectorizer\n",
    "\n",
    "# stable numerical implementation of sigmoid\n",
    "from scipy.special import expit"
   ]
  },
  {
   "cell_type": "code",
   "execution_count": 2,
   "metadata": {},
   "outputs": [],
   "source": [
    "import cvxopt\n",
    "from cvxopt import matrix, spmatrix, solvers"
   ]
  },
  {
   "cell_type": "code",
   "execution_count": 3,
   "metadata": {},
   "outputs": [],
   "source": [
    "from sklearn.metrics.pairwise import cosine_similarity\n",
    "#cosine_similarity(X, Y)"
   ]
  },
  {
   "cell_type": "code",
   "execution_count": 4,
   "metadata": {},
   "outputs": [],
   "source": [
    "import time"
   ]
  },
  {
   "cell_type": "code",
   "execution_count": 5,
   "metadata": {},
   "outputs": [],
   "source": [
    "def load_sequence(kind='X', root='tr', number=3):\n",
    "    seqs =  [pd.read_csv('./data/%s%s%d.csv'%(kind, root, d)) for d in range(number)]\n",
    "    \n",
    "    if kind == 'X':\n",
    "            df = pd.DataFrame(columns=['Id','seq'])\n",
    "    else:\n",
    "            df= pd.DataFrame(columns=['Id','Bound'])\n",
    "    \n",
    "    for seq in seqs:\n",
    "        \n",
    "        df = df.append(seq, ignore_index=True)\n",
    "        \n",
    "    return df\n",
    "\n",
    "def load_features(root='tr', number=3):\n",
    "    kind = 'X'\n",
    "    \n",
    "    feats =  [np.loadtxt('./data/%s%s%d_mat100.csv'%(kind, root, d)) for d in range(number)]\n",
    "        \n",
    "    return  np.vstack((feat for feat in feats))\n",
    "\n",
    "\n",
    "def getKmers(sequence, size=5):\n",
    "    return [sequence[x:x+size].lower() for x in range(len(sequence) - size + 1)]\n",
    "\n",
    "\n",
    "def get_features(dF, size=5, normed=False, rang=(4,4)):\n",
    "    df = dF.copy()\n",
    "    \n",
    "    df['words'] = df.apply(lambda x: getKmers(x['seq'], size=size), axis=1)\n",
    "    df = df.drop('seq', axis=1)\n",
    "\n",
    "    texts = list(df['words'])\n",
    "    for item in range(len(texts)):\n",
    "        texts[item] = ' '.join(df.iloc[item,1])\n",
    "    \n",
    "    if normed:\n",
    "        cv = TfidfVectorizer(ngram_range=rang)\n",
    "    else:\n",
    "        cv = CountVectorizer(ngram_range= rang)\n",
    "    X = cv.fit_transform(texts)\n",
    "    return X"
   ]
  },
  {
   "cell_type": "code",
   "execution_count": null,
   "metadata": {},
   "outputs": [],
   "source": []
  },
  {
   "cell_type": "code",
   "execution_count": 6,
   "metadata": {},
   "outputs": [],
   "source": [
    "sequences_train = load_sequence(number=3)\n",
    "sequences_test = load_sequence(number=3, root='te')\n",
    "labels_train = load_sequence(kind='Y' ,root='tr', number=3)"
   ]
  },
  {
   "cell_type": "code",
   "execution_count": 7,
   "metadata": {},
   "outputs": [
    {
     "data": {
      "text/plain": [
       "((3000, 2), (6000, 2), (6000, 2))"
      ]
     },
     "execution_count": 7,
     "metadata": {},
     "output_type": "execute_result"
    }
   ],
   "source": [
    "sequences_test.shape, labels_train.shape, sequences_train.shape"
   ]
  },
  {
   "cell_type": "code",
   "execution_count": 8,
   "metadata": {},
   "outputs": [],
   "source": [
    "all_labels = labels_train.Bound.values.astype(int)"
   ]
  },
  {
   "cell_type": "code",
   "execution_count": 10,
   "metadata": {},
   "outputs": [],
   "source": [
    "def build_training(k, sizes=[4,5], normed=False, rang=(4,4)):\n",
    "    dataset = pd.DataFrame()\n",
    "    dataset = dataset.append(sequences_train.iloc[2000*k:2000*(k+1)])\n",
    "    dataset =  dataset.append(sequences_test.iloc[1000*k:1000*(k+1)])\n",
    "\n",
    "    print('performing counts..........')\n",
    "    K_xx, K_yx = [], []\n",
    "    \n",
    "    for size in sizes:\n",
    "        counts = get_features(dataset, size=size, normed=normed, rang=rang)\n",
    "\n",
    "        counts_train = counts[:2000]\n",
    "        counts_test = counts[2000:]\n",
    "        k_xx = np.dot(counts_train, counts_train.T).toarray()\n",
    "        k_yx = np.dot(counts_test, counts_train.T).toarray()\n",
    "        K_xx.append(k_xx)\n",
    "        K_yx.append(k_yx)\n",
    "    \n",
    "    y_train = all_labels[2000*k:2000*(k+1)]\n",
    "    \n",
    "    return np.array(K_xx), np.array(K_yx), y_train"
   ]
  },
  {
   "cell_type": "markdown",
   "metadata": {},
   "source": [
    "## THE PYTHON CLASS FOR KERNEL LOGISTIC REGRESSION"
   ]
  },
  {
   "cell_type": "code",
   "execution_count": 11,
   "metadata": {},
   "outputs": [],
   "source": [
    "class MultiKerOpt():\n",
    "    \n",
    "    def __init__(self, alpha=0.01, tol=1e-07, degree=2, method='klr', hide=False):\n",
    "        self.alpha = alpha\n",
    "        self.tol = tol\n",
    "        self.degree = degree\n",
    "        self.method = method\n",
    "        self.hide  = hide\n",
    "        \n",
    "    def scale(self, u, norm):\n",
    "        if norm=='l1':\n",
    "            return u/np.sum(u)\n",
    "        elif norm=='l2':\n",
    "            return u / np.sqrt(np.sum(u**2))\n",
    "        else:\n",
    "            raise Exception('l1 and l2 are the only available norms')\n",
    "            \n",
    "    def bound(self, u, u_0, gamma, norm):\n",
    "        u__ = u - u_0\n",
    "        u__ = np.abs(self.scale(u__, norm) * gamma)\n",
    "        return u__ + u_0\n",
    "    \n",
    "    def KrrIterate(self, Kernels, y, coef, weights = None):\n",
    "        K_w = np.sum((Kernels * coef[:, None, None]), axis=0) ** self.degree\n",
    "        N, D = K_w.shape\n",
    "        if weights is None:\n",
    "            c = np.linalg.solve(np.linalg.inv(K_w + self.alpha * np.eye(N, D)), y[:, np.newaxis])\n",
    "        else:\n",
    "            W_r = np.diag(np.sqrt(weights))\n",
    "            A = W_r.dot(K_w).dot(W_r) + self.alpha * np.eye(N,D)\n",
    "            Y = np.dot(W_r, y[:, np.newaxis])\n",
    "            x_sol = np.linalg.solve(A, Y)\n",
    "            c = np.dot(W_r, x_sol)\n",
    "        return c\n",
    "    \n",
    "    def KlrIterate(self, Kernels, y, coef, tol=1e-07, max_iters=5):\n",
    "        c_old = self.KrrIterate(Kernels, y, coef)\n",
    "        K_w = np.sum((Kernels * coef[:, None, None]), axis=0) ** self.degree\n",
    "        y_enc = 2*y-1\n",
    "        \n",
    "        for i in range(max_iters):\n",
    "            m_t = np.dot(K_w, c_old)\n",
    "            p_t = -expit(-y_enc[:, np.newaxis]*m_t)\n",
    "            w_t = expit(m_t)*expit(-m_t)\n",
    "            z_t = m_t - (p_t * y_enc[:, np.newaxis]) /(w_t+ 1e-05)\n",
    "            c_new = self.KrrIterate(Kernels, z_t.flatten(), coef, weights=w_t.flatten())\n",
    "            if np.linalg.norm(c_new - c_old)<tol:\n",
    "                break\n",
    "            else:\n",
    "                c_old = c_new\n",
    "        return c_old\n",
    "\n",
    "    def SvmIterate(self, Kernels, y, coef):\n",
    "        nb_samples = y.shape[0]\n",
    "        C = 1 / ( 2 * self.alpha * nb_samples)\n",
    "        \n",
    "        r = np.arange(nb_samples)\n",
    "        o = np.ones(nb_samples)\n",
    "        z = np.zeros(nb_samples)\n",
    "            \n",
    "        K_w  = np.sum(Kernels * coef[:, None, None], axis=0) ** (self.degree)\n",
    "        \n",
    "        y_enc = 2*y-1\n",
    "        \n",
    "        P = matrix(K_w.astype(float), tc='d')\n",
    "        q = matrix(-y_enc, tc='d')\n",
    "        G = spmatrix(np.r_[y_enc, -y_enc], np.r_[r, r + nb_samples], np.r_[r, r], tc='d')\n",
    "        h = matrix(np.r_[o * C, z], tc='d')\n",
    "        \n",
    "        if self.hide:\n",
    "            solvers.options['show_progress'] = False\n",
    "        sol = solvers.qp(P, q, G, h)\n",
    "        c = np.ravel(sol['x'])[:,np.newaxis]\n",
    "        \n",
    "        return c\n",
    "    \n",
    "    def gradUpdate(self, Kernels, coef, delta):\n",
    "        K_t = np.sum(Kernels * coef[:, None, None], axis=0) ** (self.degree-1)\n",
    "        grad = np.zeros(len(Kernels))\n",
    "        for m in range(len(Kernels)):\n",
    "            grad[m] = delta.T.dot((K_t * Kernels[m])).dot(delta)\n",
    "            \n",
    "        return - self.degree * grad\n",
    "    \n",
    "    def fit(self, Kernels, y, u_0=0, gamma=1, norm='l2', n_iter=5, step=1, weights=None):\n",
    "        coef = np.random.normal(0, 1, len(Kernels)) / len(Kernels)\n",
    "        coef = self.bound(coef, u_0, gamma, norm)\n",
    "        new_coef = 0\n",
    "        \n",
    "        score_prev = np.inf\n",
    "        \n",
    "        for i in range(n_iter):\n",
    "            #print(i+1)\n",
    "            if self.method=='klr':\n",
    "                delta = self.KlrIterate(Kernels, y, coef, tol=1e-07, max_iters=5)\n",
    "            elif self.method=='svm':\n",
    "                delta = self.SvmIterate(Kernels, y, coef)\n",
    "            else:\n",
    "                delta = self.KrrIterate(Kernels, y, coef, weights = weights)\n",
    "                \n",
    "            grad = self.gradUpdate(Kernels, coef, delta)\n",
    "            \n",
    "            new_coef = coef - step * grad\n",
    "            new_coef = self.bound(new_coef, u_0, gamma, norm)\n",
    "            \n",
    "            score = np.linalg.norm(new_coef - coef, np.inf)\n",
    "            \n",
    "            if score>score_prev:\n",
    "                step *= 0.9\n",
    "                \n",
    "            if score<self.tol:\n",
    "                return new_coef\n",
    "            \n",
    "            coef = new_coef\n",
    "            score_prev = score.copy()\n",
    "            \n",
    "        self.coef, self.delta = coef, delta\n",
    "        #return new_coef\n",
    "    def predict(self, Kernels):\n",
    "        K_w = np.sum(Kernels * self.coef[:, None, None], axis=0) ** (self.degree)\n",
    "        y__ = np.sign(K_w.dot(self.delta)).flatten()\n",
    "        if self.method != 'krr':\n",
    "            y__ = 0.5 * (y__ + 1)\n",
    "        return y__\n",
    "    \n",
    "    def score(self, Kernels, y):\n",
    "        y__ = self.predict(Kernels)\n",
    "        if self.method!='krr':\n",
    "            score = 100*(y__==y).mean()\n",
    "        else:\n",
    "            score = np.mean((y__- y)**2)\n",
    "        return score\n",
    "                "
   ]
  },
  {
   "cell_type": "code",
   "execution_count": 12,
   "metadata": {},
   "outputs": [],
   "source": [
    "def CvSearch(K_xx, K_yx, y, method='svm', degrees=[4], alphas=[0.01], cv=5):\n",
    "    tt = time.time()\n",
    "    \n",
    "    n_iters = cv * len(degrees) * len(alphas)\n",
    "    \n",
    "    n_samples = y.shape[0]\n",
    "    \n",
    "    DEG, ALPH, TRAIN, VAL = [], [], [], []\n",
    "    \n",
    "    i=0\n",
    "    \n",
    "    for degree in degrees:\n",
    "        for alpha in alphas:\n",
    "            DEG.append(degree)\n",
    "            ALPH.append(alpha)\n",
    "            \n",
    "            #SPLITTING\n",
    "            INDS = np.array(range(n_samples))\n",
    "            idx = np.random.permutation(n_samples)\n",
    "            INDS = INDS[idx]\n",
    "            \n",
    "            vals = np.array_split(INDS, cv)\n",
    "            \n",
    "            perfs_train = []\n",
    "            perfs_val = []\n",
    "            \n",
    "            for val in vals:\n",
    "                i += 1 \n",
    "                sys.stderr.write('\\rIteration %d/%d ' %(i, n_iters))\n",
    "                sys.stderr.flush()\n",
    "                \n",
    "                train = np.setdiff1d(range(n_samples),val)\n",
    "                \n",
    "                clf = MultiKerOpt(alpha=alpha, tol=1e-07, degree=degree, method=method, hide=True)\n",
    "                \n",
    "                clf.fit(K_xx[:,train.reshape(-1,1), train], y[train])\n",
    "                \n",
    "                score_train = clf.score(K_xx[:,train.reshape(-1,1), train], y[train])\n",
    "                \n",
    "                score_val =  clf.score(K_xx[:,val.reshape(-1,1), train], y[val])\n",
    "                \n",
    "                perfs_train.append(score_train)\n",
    "                perfs_val.append(score_val)\n",
    "                \n",
    "            TRAIN.append(np.mean(np.array(perfs_train)))\n",
    "            VAL.append(np.mean(np.array(perfs_val)))\n",
    "            \n",
    "    df = pd.DataFrame({'degree':DEG, 'alpha':ALPH, 'train':TRAIN, 'val':VAL})\n",
    "    \n",
    "    tt = time.time() - tt\n",
    "    print('Done in %.3f'%(tt/60))\n",
    "    \n",
    "    return df\n",
    "#"
   ]
  },
  {
   "cell_type": "code",
   "execution_count": 13,
   "metadata": {},
   "outputs": [],
   "source": [
    "def get_best(df):\n",
    "    idx = np.argmax(df.val.values)\n",
    "    best = np.max(df.val.values)\n",
    "\n",
    "    best_degree = df.degree[idx]\n",
    "    best_alpha = df.alpha[idx]\n",
    "    return best_degree, best_alpha, best"
   ]
  },
  {
   "cell_type": "code",
   "execution_count": 14,
   "metadata": {},
   "outputs": [
    {
     "name": "stdout",
     "output_type": "stream",
     "text": [
      "[0.001, 0.01, 0.1, 1, 10]\n"
     ]
    }
   ],
   "source": [
    "REG_PARAMS_SPAN = [10**i for i in range(-3, 2)] #+ [10**i/2 for i in range(-10, 10)]\n",
    "print(REG_PARAMS_SPAN)"
   ]
  },
  {
   "cell_type": "markdown",
   "metadata": {},
   "source": [
    "## DATASET 0"
   ]
  },
  {
   "cell_type": "code",
   "execution_count": 15,
   "metadata": {},
   "outputs": [
    {
     "name": "stdout",
     "output_type": "stream",
     "text": [
      "performing counts..........\n"
     ]
    }
   ],
   "source": [
    "K_xx_0, X_yx_0, y_train_0 = build_training(0, sizes=[4,5,6,7], normed=False, rang=(4,4))"
   ]
  },
  {
   "cell_type": "code",
   "execution_count": 16,
   "metadata": {},
   "outputs": [],
   "source": [
    "RUN = False\n",
    "\n",
    "if RUN:\n",
    "    df  = CvSearch(K_xx_0, X_yx_0, y_train_0, method='svm', degrees=[1, 2, 3, 4], \n",
    "               alphas=REG_PARAMS_SPAN, cv=5)\n",
    "    df.to_csv('./CV/X0_cv5_linear_kmers.csv', index=False)\n",
    "else:\n",
    "    df = pd.read_csv('./CV/X0_cv5_linear_kmers.csv')"
   ]
  },
  {
   "cell_type": "code",
   "execution_count": 17,
   "metadata": {},
   "outputs": [
    {
     "data": {
      "text/html": [
       "<div>\n",
       "<style scoped>\n",
       "    .dataframe tbody tr th:only-of-type {\n",
       "        vertical-align: middle;\n",
       "    }\n",
       "\n",
       "    .dataframe tbody tr th {\n",
       "        vertical-align: top;\n",
       "    }\n",
       "\n",
       "    .dataframe thead th {\n",
       "        text-align: right;\n",
       "    }\n",
       "</style>\n",
       "<table border=\"1\" class=\"dataframe\">\n",
       "  <thead>\n",
       "    <tr style=\"text-align: right;\">\n",
       "      <th></th>\n",
       "      <th>degree</th>\n",
       "      <th>alpha</th>\n",
       "      <th>train</th>\n",
       "      <th>val</th>\n",
       "    </tr>\n",
       "  </thead>\n",
       "  <tbody>\n",
       "    <tr>\n",
       "      <th>0</th>\n",
       "      <td>1</td>\n",
       "      <td>0.01</td>\n",
       "      <td>100.0000</td>\n",
       "      <td>60.05</td>\n",
       "    </tr>\n",
       "    <tr>\n",
       "      <th>1</th>\n",
       "      <td>1</td>\n",
       "      <td>0.10</td>\n",
       "      <td>96.1250</td>\n",
       "      <td>61.80</td>\n",
       "    </tr>\n",
       "    <tr>\n",
       "      <th>2</th>\n",
       "      <td>1</td>\n",
       "      <td>1.00</td>\n",
       "      <td>91.9500</td>\n",
       "      <td>58.75</td>\n",
       "    </tr>\n",
       "    <tr>\n",
       "      <th>3</th>\n",
       "      <td>1</td>\n",
       "      <td>10.00</td>\n",
       "      <td>92.2375</td>\n",
       "      <td>59.40</td>\n",
       "    </tr>\n",
       "    <tr>\n",
       "      <th>4</th>\n",
       "      <td>2</td>\n",
       "      <td>0.01</td>\n",
       "      <td>100.0000</td>\n",
       "      <td>59.50</td>\n",
       "    </tr>\n",
       "    <tr>\n",
       "      <th>5</th>\n",
       "      <td>2</td>\n",
       "      <td>0.10</td>\n",
       "      <td>100.0000</td>\n",
       "      <td>59.20</td>\n",
       "    </tr>\n",
       "    <tr>\n",
       "      <th>6</th>\n",
       "      <td>2</td>\n",
       "      <td>1.00</td>\n",
       "      <td>100.0000</td>\n",
       "      <td>59.65</td>\n",
       "    </tr>\n",
       "    <tr>\n",
       "      <th>7</th>\n",
       "      <td>2</td>\n",
       "      <td>10.00</td>\n",
       "      <td>99.7750</td>\n",
       "      <td>59.90</td>\n",
       "    </tr>\n",
       "    <tr>\n",
       "      <th>8</th>\n",
       "      <td>3</td>\n",
       "      <td>0.01</td>\n",
       "      <td>100.0000</td>\n",
       "      <td>59.25</td>\n",
       "    </tr>\n",
       "    <tr>\n",
       "      <th>9</th>\n",
       "      <td>3</td>\n",
       "      <td>0.10</td>\n",
       "      <td>100.0000</td>\n",
       "      <td>58.15</td>\n",
       "    </tr>\n",
       "    <tr>\n",
       "      <th>10</th>\n",
       "      <td>3</td>\n",
       "      <td>1.00</td>\n",
       "      <td>100.0000</td>\n",
       "      <td>58.05</td>\n",
       "    </tr>\n",
       "    <tr>\n",
       "      <th>11</th>\n",
       "      <td>3</td>\n",
       "      <td>10.00</td>\n",
       "      <td>100.0000</td>\n",
       "      <td>58.35</td>\n",
       "    </tr>\n",
       "    <tr>\n",
       "      <th>12</th>\n",
       "      <td>4</td>\n",
       "      <td>0.01</td>\n",
       "      <td>100.0000</td>\n",
       "      <td>58.25</td>\n",
       "    </tr>\n",
       "    <tr>\n",
       "      <th>13</th>\n",
       "      <td>4</td>\n",
       "      <td>0.10</td>\n",
       "      <td>100.0000</td>\n",
       "      <td>59.00</td>\n",
       "    </tr>\n",
       "    <tr>\n",
       "      <th>14</th>\n",
       "      <td>4</td>\n",
       "      <td>1.00</td>\n",
       "      <td>100.0000</td>\n",
       "      <td>58.00</td>\n",
       "    </tr>\n",
       "    <tr>\n",
       "      <th>15</th>\n",
       "      <td>4</td>\n",
       "      <td>10.00</td>\n",
       "      <td>100.0000</td>\n",
       "      <td>57.80</td>\n",
       "    </tr>\n",
       "  </tbody>\n",
       "</table>\n",
       "</div>"
      ],
      "text/plain": [
       "    degree  alpha     train    val\n",
       "0        1   0.01  100.0000  60.05\n",
       "1        1   0.10   96.1250  61.80\n",
       "2        1   1.00   91.9500  58.75\n",
       "3        1  10.00   92.2375  59.40\n",
       "4        2   0.01  100.0000  59.50\n",
       "5        2   0.10  100.0000  59.20\n",
       "6        2   1.00  100.0000  59.65\n",
       "7        2  10.00   99.7750  59.90\n",
       "8        3   0.01  100.0000  59.25\n",
       "9        3   0.10  100.0000  58.15\n",
       "10       3   1.00  100.0000  58.05\n",
       "11       3  10.00  100.0000  58.35\n",
       "12       4   0.01  100.0000  58.25\n",
       "13       4   0.10  100.0000  59.00\n",
       "14       4   1.00  100.0000  58.00\n",
       "15       4  10.00  100.0000  57.80"
      ]
     },
     "execution_count": 17,
     "metadata": {},
     "output_type": "execute_result"
    }
   ],
   "source": [
    "df"
   ]
  },
  {
   "cell_type": "code",
   "execution_count": 18,
   "metadata": {},
   "outputs": [
    {
     "name": "stdout",
     "output_type": "stream",
     "text": [
      "1 0.1 61.8\n"
     ]
    }
   ],
   "source": [
    "best_degree_0, best_alpha_0, best_0 = get_best(df)\n",
    "print(best_degree_0, best_alpha_0, best_0)"
   ]
  },
  {
   "cell_type": "code",
   "execution_count": 21,
   "metadata": {},
   "outputs": [
    {
     "name": "stdout",
     "output_type": "stream",
     "text": [
      "     pcost       dcost       gap    pres   dres\n",
      " 0: -6.9844e+00 -1.2092e+01  5e+03  7e+01  2e-15\n",
      " 1: -6.9617e+00 -1.1738e+01  3e+02  4e+00  2e-15\n",
      " 2: -6.0312e+00 -9.5629e+00  4e+01  6e-01  1e-15\n",
      " 3: -3.6275e+00 -7.3749e+00  6e+00  3e-02  2e-15\n",
      " 4: -3.5655e+00 -4.0089e+00  5e-01  1e-03  1e-15\n",
      " 5: -3.7170e+00 -3.7908e+00  8e-02  2e-04  1e-15\n",
      " 6: -3.7476e+00 -3.7540e+00  7e-03  1e-05  1e-15\n",
      " 7: -3.7505e+00 -3.7507e+00  3e-04  3e-07  1e-15\n",
      " 8: -3.7506e+00 -3.7506e+00  9e-06  8e-09  1e-15\n",
      " 9: -3.7506e+00 -3.7506e+00  3e-07  1e-10  1e-15\n",
      "Optimal solution found.\n",
      "     pcost       dcost       gap    pres   dres\n",
      " 0: -5.8753e+00 -1.1004e+01  4e+03  7e+01  2e-15\n",
      " 1: -5.8610e+00 -1.0751e+01  2e+02  3e+00  2e-15\n",
      " 2: -5.1712e+00 -9.1158e+00  4e+01  5e-01  1e-15\n",
      " 3: -3.3804e+00 -7.1352e+00  6e+00  3e-02  3e-15\n",
      " 4: -3.3474e+00 -3.8042e+00  5e-01  1e-03  1e-15\n",
      " 5: -3.5061e+00 -3.5776e+00  7e-02  2e-04  1e-15\n",
      " 6: -3.5362e+00 -3.5449e+00  9e-03  2e-05  1e-15\n",
      " 7: -3.5403e+00 -3.5408e+00  4e-04  6e-07  1e-15\n",
      " 8: -3.5405e+00 -3.5406e+00  2e-05  2e-08  1e-15\n",
      " 9: -3.5405e+00 -3.5405e+00  5e-07  3e-10  1e-15\n",
      "Optimal solution found.\n",
      "     pcost       dcost       gap    pres   dres\n",
      " 0: -5.8254e+00 -1.0955e+01  4e+03  7e+01  2e-15\n",
      " 1: -5.8113e+00 -1.0705e+01  2e+02  3e+00  2e-15\n",
      " 2: -5.1290e+00 -9.0918e+00  4e+01  5e-01  2e-15\n",
      " 3: -3.3629e+00 -7.1222e+00  6e+00  3e-02  3e-15\n",
      " 4: -3.3309e+00 -3.7878e+00  5e-01  1e-03  1e-15\n",
      " 5: -3.4896e+00 -3.5608e+00  7e-02  2e-04  1e-15\n",
      " 6: -3.5196e+00 -3.5284e+00  9e-03  2e-05  1e-15\n",
      " 7: -3.5239e+00 -3.5242e+00  4e-04  5e-07  1e-15\n",
      " 8: -3.5241e+00 -3.5241e+00  1e-05  1e-08  1e-15\n",
      " 9: -3.5241e+00 -3.5241e+00  4e-07  2e-10  1e-15\n",
      "Optimal solution found.\n",
      "     pcost       dcost       gap    pres   dres\n",
      " 0: -5.8275e+00 -1.0957e+01  4e+03  7e+01  2e-15\n",
      " 1: -5.8134e+00 -1.0707e+01  2e+02  3e+00  2e-15\n",
      " 2: -5.1297e+00 -9.0918e+00  4e+01  5e-01  2e-15\n",
      " 3: -3.3620e+00 -7.1228e+00  6e+00  3e-02  3e-15\n",
      " 4: -3.3294e+00 -3.7860e+00  5e-01  1e-03  1e-15\n",
      " 5: -3.4882e+00 -3.5593e+00  7e-02  2e-04  1e-15\n",
      " 6: -3.5182e+00 -3.5270e+00  9e-03  2e-05  1e-15\n",
      " 7: -3.5224e+00 -3.5228e+00  4e-04  5e-07  1e-15\n",
      " 8: -3.5226e+00 -3.5226e+00  1e-05  1e-08  1e-15\n",
      " 9: -3.5226e+00 -3.5226e+00  4e-07  2e-10  1e-15\n",
      "Optimal solution found.\n",
      "     pcost       dcost       gap    pres   dres\n",
      " 0: -5.8295e+00 -1.0959e+01  4e+03  7e+01  2e-15\n",
      " 1: -5.8154e+00 -1.0709e+01  2e+02  3e+00  2e-15\n",
      " 2: -5.1310e+00 -9.0924e+00  4e+01  5e-01  1e-15\n",
      " 3: -3.3621e+00 -7.1233e+00  6e+00  3e-02  2e-15\n",
      " 4: -3.3292e+00 -3.7858e+00  5e-01  1e-03  1e-15\n",
      " 5: -3.4881e+00 -3.5592e+00  7e-02  2e-04  1e-15\n",
      " 6: -3.5181e+00 -3.5269e+00  9e-03  2e-05  1e-15\n",
      " 7: -3.5223e+00 -3.5227e+00  4e-04  5e-07  1e-15\n",
      " 8: -3.5225e+00 -3.5225e+00  1e-05  1e-08  1e-15\n",
      " 9: -3.5225e+00 -3.5225e+00  4e-07  2e-10  1e-15\n",
      "Optimal solution found.\n"
     ]
    }
   ],
   "source": [
    "clf0 = MultiKerOpt(alpha=best_alpha_0, tol=1e-07, degree=best_degree_0, method='svm', hide=False)\n",
    "clf0.fit(K_xx_0, y_train_0, n_iter=5)\n",
    "y_pred_0 = clf0.predict(X_yx_0)"
   ]
  },
  {
   "cell_type": "code",
   "execution_count": 22,
   "metadata": {},
   "outputs": [
    {
     "name": "stdout",
     "output_type": "stream",
     "text": [
      "0.4885 0.567\n"
     ]
    }
   ],
   "source": [
    "print(y_train_0.mean(), y_pred_0.mean())"
   ]
  },
  {
   "cell_type": "code",
   "execution_count": null,
   "metadata": {},
   "outputs": [],
   "source": []
  },
  {
   "cell_type": "markdown",
   "metadata": {},
   "source": [
    "## DATASET 1"
   ]
  },
  {
   "cell_type": "code",
   "execution_count": 24,
   "metadata": {},
   "outputs": [
    {
     "name": "stdout",
     "output_type": "stream",
     "text": [
      "performing counts..........\n"
     ]
    }
   ],
   "source": [
    "K_xx_1, X_yx_1, y_train_1 = build_training(1, sizes=[4,5,6], normed=False, rang=(4,4))"
   ]
  },
  {
   "cell_type": "code",
   "execution_count": 25,
   "metadata": {},
   "outputs": [],
   "source": [
    "RUN = False\n",
    "\n",
    "if RUN:\n",
    "    df1  = CvSearch(K_xx_1, X_yx_1, y_train_1, method='svm', degrees=[1, 2, 3, 4], \n",
    "               alphas=REG_PARAMS_SPAN, cv=5)\n",
    "    df1.to_csv('./CV/X1_cv5_linear_kmers.csv', index=False)\n",
    "else:\n",
    "    df1 = pd.read_csv('./CV/X1_cv5_linear_kmers.csv')"
   ]
  },
  {
   "cell_type": "code",
   "execution_count": 26,
   "metadata": {},
   "outputs": [
    {
     "data": {
      "text/html": [
       "<div>\n",
       "<style scoped>\n",
       "    .dataframe tbody tr th:only-of-type {\n",
       "        vertical-align: middle;\n",
       "    }\n",
       "\n",
       "    .dataframe tbody tr th {\n",
       "        vertical-align: top;\n",
       "    }\n",
       "\n",
       "    .dataframe thead th {\n",
       "        text-align: right;\n",
       "    }\n",
       "</style>\n",
       "<table border=\"1\" class=\"dataframe\">\n",
       "  <thead>\n",
       "    <tr style=\"text-align: right;\">\n",
       "      <th></th>\n",
       "      <th>degree</th>\n",
       "      <th>alpha</th>\n",
       "      <th>train</th>\n",
       "      <th>val</th>\n",
       "    </tr>\n",
       "  </thead>\n",
       "  <tbody>\n",
       "    <tr>\n",
       "      <th>0</th>\n",
       "      <td>1</td>\n",
       "      <td>0.01</td>\n",
       "      <td>100.0000</td>\n",
       "      <td>74.55</td>\n",
       "    </tr>\n",
       "    <tr>\n",
       "      <th>1</th>\n",
       "      <td>1</td>\n",
       "      <td>0.10</td>\n",
       "      <td>98.4875</td>\n",
       "      <td>74.95</td>\n",
       "    </tr>\n",
       "    <tr>\n",
       "      <th>2</th>\n",
       "      <td>1</td>\n",
       "      <td>1.00</td>\n",
       "      <td>97.7875</td>\n",
       "      <td>73.30</td>\n",
       "    </tr>\n",
       "    <tr>\n",
       "      <th>3</th>\n",
       "      <td>1</td>\n",
       "      <td>10.00</td>\n",
       "      <td>97.2375</td>\n",
       "      <td>73.90</td>\n",
       "    </tr>\n",
       "    <tr>\n",
       "      <th>4</th>\n",
       "      <td>2</td>\n",
       "      <td>0.01</td>\n",
       "      <td>100.0000</td>\n",
       "      <td>75.75</td>\n",
       "    </tr>\n",
       "    <tr>\n",
       "      <th>5</th>\n",
       "      <td>2</td>\n",
       "      <td>0.10</td>\n",
       "      <td>100.0000</td>\n",
       "      <td>77.05</td>\n",
       "    </tr>\n",
       "    <tr>\n",
       "      <th>6</th>\n",
       "      <td>2</td>\n",
       "      <td>1.00</td>\n",
       "      <td>100.0000</td>\n",
       "      <td>75.85</td>\n",
       "    </tr>\n",
       "    <tr>\n",
       "      <th>7</th>\n",
       "      <td>2</td>\n",
       "      <td>10.00</td>\n",
       "      <td>100.0000</td>\n",
       "      <td>75.40</td>\n",
       "    </tr>\n",
       "    <tr>\n",
       "      <th>8</th>\n",
       "      <td>3</td>\n",
       "      <td>0.01</td>\n",
       "      <td>100.0000</td>\n",
       "      <td>75.05</td>\n",
       "    </tr>\n",
       "    <tr>\n",
       "      <th>9</th>\n",
       "      <td>3</td>\n",
       "      <td>0.10</td>\n",
       "      <td>100.0000</td>\n",
       "      <td>75.55</td>\n",
       "    </tr>\n",
       "    <tr>\n",
       "      <th>10</th>\n",
       "      <td>3</td>\n",
       "      <td>1.00</td>\n",
       "      <td>100.0000</td>\n",
       "      <td>74.30</td>\n",
       "    </tr>\n",
       "    <tr>\n",
       "      <th>11</th>\n",
       "      <td>3</td>\n",
       "      <td>10.00</td>\n",
       "      <td>100.0000</td>\n",
       "      <td>73.95</td>\n",
       "    </tr>\n",
       "    <tr>\n",
       "      <th>12</th>\n",
       "      <td>4</td>\n",
       "      <td>0.01</td>\n",
       "      <td>100.0000</td>\n",
       "      <td>72.30</td>\n",
       "    </tr>\n",
       "    <tr>\n",
       "      <th>13</th>\n",
       "      <td>4</td>\n",
       "      <td>0.10</td>\n",
       "      <td>100.0000</td>\n",
       "      <td>73.75</td>\n",
       "    </tr>\n",
       "    <tr>\n",
       "      <th>14</th>\n",
       "      <td>4</td>\n",
       "      <td>1.00</td>\n",
       "      <td>100.0000</td>\n",
       "      <td>73.05</td>\n",
       "    </tr>\n",
       "    <tr>\n",
       "      <th>15</th>\n",
       "      <td>4</td>\n",
       "      <td>10.00</td>\n",
       "      <td>100.0000</td>\n",
       "      <td>73.65</td>\n",
       "    </tr>\n",
       "  </tbody>\n",
       "</table>\n",
       "</div>"
      ],
      "text/plain": [
       "    degree  alpha     train    val\n",
       "0        1   0.01  100.0000  74.55\n",
       "1        1   0.10   98.4875  74.95\n",
       "2        1   1.00   97.7875  73.30\n",
       "3        1  10.00   97.2375  73.90\n",
       "4        2   0.01  100.0000  75.75\n",
       "5        2   0.10  100.0000  77.05\n",
       "6        2   1.00  100.0000  75.85\n",
       "7        2  10.00  100.0000  75.40\n",
       "8        3   0.01  100.0000  75.05\n",
       "9        3   0.10  100.0000  75.55\n",
       "10       3   1.00  100.0000  74.30\n",
       "11       3  10.00  100.0000  73.95\n",
       "12       4   0.01  100.0000  72.30\n",
       "13       4   0.10  100.0000  73.75\n",
       "14       4   1.00  100.0000  73.05\n",
       "15       4  10.00  100.0000  73.65"
      ]
     },
     "execution_count": 26,
     "metadata": {},
     "output_type": "execute_result"
    }
   ],
   "source": [
    "df1"
   ]
  },
  {
   "cell_type": "code",
   "execution_count": 28,
   "metadata": {},
   "outputs": [
    {
     "name": "stdout",
     "output_type": "stream",
     "text": [
      "2 0.1 77.05\n"
     ]
    }
   ],
   "source": [
    "best_degree_1, best_alpha_1, best_1 = get_best(df1)\n",
    "print(best_degree_1, best_alpha_1, best_1)"
   ]
  },
  {
   "cell_type": "code",
   "execution_count": 29,
   "metadata": {},
   "outputs": [
    {
     "name": "stdout",
     "output_type": "stream",
     "text": [
      "     pcost       dcost       gap    pres   dres\n",
      " 0: -4.1068e-02 -5.0415e+00  4e+03  6e+01  2e-15\n",
      " 1: -4.1066e-02 -5.0176e+00  4e+01  6e-01  1e-15\n",
      " 2: -3.6185e-02 -3.3088e+00  4e+00  6e-03  1e-15\n",
      " 3: -3.4843e-02 -1.2588e-01  9e-02  1e-04  1e-15\n",
      " 4: -4.0990e-02 -4.4988e-02  4e-03  1e-06  1e-15\n",
      " 5: -4.1067e-02 -4.1348e-02  3e-04  7e-08  1e-15\n",
      " 6: -4.1068e-02 -4.1075e-02  6e-06  1e-09  1e-15\n",
      " 7: -4.1068e-02 -4.1068e-02  1e-07  3e-11  1e-15\n",
      " 8: -4.1068e-02 -4.1068e-02  3e-09  3e-13  1e-15\n",
      "Optimal solution found.\n",
      "     pcost       dcost       gap    pres   dres\n",
      " 0: -3.8044e-02 -5.0384e+00  4e+03  6e+01  2e-15\n",
      " 1: -3.8043e-02 -5.0145e+00  4e+01  6e-01  1e-15\n",
      " 2: -3.3488e-02 -3.3013e+00  4e+00  6e-03  1e-15\n",
      " 3: -3.1796e-02 -1.2355e-01  9e-02  1e-04  1e-15\n",
      " 4: -3.7959e-02 -4.2008e-02  4e-03  1e-06  1e-15\n",
      " 5: -3.8044e-02 -3.8322e-02  3e-04  7e-08  1e-15\n",
      " 6: -3.8044e-02 -3.8050e-02  6e-06  1e-09  1e-15\n",
      " 7: -3.8044e-02 -3.8045e-02  1e-07  2e-11  1e-15\n",
      " 8: -3.8044e-02 -3.8044e-02  3e-09  3e-13  9e-16\n",
      "Optimal solution found.\n",
      "     pcost       dcost       gap    pres   dres\n",
      " 0: -3.6215e-02 -5.0366e+00  4e+03  6e+01  2e-15\n",
      " 1: -3.6214e-02 -5.0126e+00  4e+01  6e-01  1e-15\n",
      " 2: -3.1859e-02 -3.2968e+00  4e+00  6e-03  1e-15\n",
      " 3: -2.9957e-02 -1.2201e-01  9e-02  1e-04  1e-15\n",
      " 4: -3.6126e-02 -4.0202e-02  4e-03  1e-06  1e-15\n",
      " 5: -3.6215e-02 -3.6491e-02  3e-04  7e-08  1e-15\n",
      " 6: -3.6215e-02 -3.6221e-02  6e-06  1e-09  1e-15\n",
      " 7: -3.6215e-02 -3.6216e-02  1e-07  2e-11  1e-15\n",
      " 8: -3.6215e-02 -3.6215e-02  2e-09  3e-13  1e-15\n",
      "Optimal solution found.\n",
      "     pcost       dcost       gap    pres   dres\n",
      " 0: -3.5006e-02 -5.0354e+00  4e+03  6e+01  2e-15\n",
      " 1: -3.5004e-02 -5.0114e+00  4e+01  6e-01  1e-15\n",
      " 2: -3.0782e-02 -3.2938e+00  4e+00  6e-03  1e-15\n",
      " 3: -2.8743e-02 -1.2095e-01  9e-02  1e-04  1e-15\n",
      " 4: -3.4914e-02 -3.9005e-02  4e-03  1e-06  1e-15\n",
      " 5: -3.5005e-02 -3.5279e-02  3e-04  7e-08  1e-15\n",
      " 6: -3.5006e-02 -3.5011e-02  6e-06  1e-09  1e-15\n",
      " 7: -3.5006e-02 -3.5006e-02  1e-07  2e-11  1e-15\n",
      " 8: -3.5006e-02 -3.5006e-02  2e-09  3e-13  1e-15\n",
      "Optimal solution found.\n",
      "     pcost       dcost       gap    pres   dres\n",
      " 0: -3.4162e-02 -5.0345e+00  4e+03  6e+01  2e-15\n",
      " 1: -3.4161e-02 -5.0105e+00  4e+01  6e-01  1e-15\n",
      " 2: -3.0032e-02 -3.2917e+00  4e+00  6e-03  1e-15\n",
      " 3: -2.7897e-02 -1.2019e-01  9e-02  1e-04  1e-15\n",
      " 4: -3.4068e-02 -3.8170e-02  4e-03  1e-06  1e-15\n",
      " 5: -3.4162e-02 -3.4434e-02  3e-04  7e-08  1e-15\n",
      " 6: -3.4162e-02 -3.4168e-02  6e-06  1e-09  1e-15\n",
      " 7: -3.4162e-02 -3.4163e-02  1e-07  2e-11  1e-15\n",
      " 8: -3.4162e-02 -3.4162e-02  2e-09  3e-13  9e-16\n",
      "Optimal solution found.\n"
     ]
    }
   ],
   "source": [
    "clf1 = MultiKerOpt(alpha=best_alpha_1, tol=1e-07, degree=best_degree_1, method='svm')\n",
    "clf1.fit(K_xx_1, y_train_1, n_iter=5)\n",
    "y_pred_1 = clf1.predict(X_yx_1)"
   ]
  },
  {
   "cell_type": "code",
   "execution_count": 30,
   "metadata": {},
   "outputs": [
    {
     "name": "stdout",
     "output_type": "stream",
     "text": [
      "0.499 0.387\n"
     ]
    }
   ],
   "source": [
    "print(y_train_1.mean(), y_pred_1.mean())"
   ]
  },
  {
   "cell_type": "markdown",
   "metadata": {},
   "source": [
    "## DATASET 2"
   ]
  },
  {
   "cell_type": "code",
   "execution_count": 31,
   "metadata": {},
   "outputs": [
    {
     "name": "stdout",
     "output_type": "stream",
     "text": [
      "performing counts..........\n"
     ]
    }
   ],
   "source": [
    "K_xx_2, X_yx_2, y_train_2 = build_training(2, sizes=[4,5,6,7], normed=False, rang=(4,4))"
   ]
  },
  {
   "cell_type": "code",
   "execution_count": 32,
   "metadata": {},
   "outputs": [],
   "source": [
    "RUN = False\n",
    "if RUN:\n",
    "    df2  = CvSearch(K_xx_2, X_yx_2, y_train_2, method='svm', degrees=[1, 2, 3, 4], \n",
    "               alphas=REG_PARAMS_SPAN, cv=5)\n",
    "    df2.to_csv('./CV/X2_cv5_linear_kmers.csv', index=False)\n",
    "else:\n",
    "    df2 = pd.read_csv('./CV/X2_cv5_linear_kmers.csv')"
   ]
  },
  {
   "cell_type": "code",
   "execution_count": 33,
   "metadata": {},
   "outputs": [
    {
     "data": {
      "text/html": [
       "<div>\n",
       "<style scoped>\n",
       "    .dataframe tbody tr th:only-of-type {\n",
       "        vertical-align: middle;\n",
       "    }\n",
       "\n",
       "    .dataframe tbody tr th {\n",
       "        vertical-align: top;\n",
       "    }\n",
       "\n",
       "    .dataframe thead th {\n",
       "        text-align: right;\n",
       "    }\n",
       "</style>\n",
       "<table border=\"1\" class=\"dataframe\">\n",
       "  <thead>\n",
       "    <tr style=\"text-align: right;\">\n",
       "      <th></th>\n",
       "      <th>degree</th>\n",
       "      <th>alpha</th>\n",
       "      <th>train</th>\n",
       "      <th>val</th>\n",
       "    </tr>\n",
       "  </thead>\n",
       "  <tbody>\n",
       "    <tr>\n",
       "      <th>0</th>\n",
       "      <td>1</td>\n",
       "      <td>0.01</td>\n",
       "      <td>100.0000</td>\n",
       "      <td>65.65</td>\n",
       "    </tr>\n",
       "    <tr>\n",
       "      <th>1</th>\n",
       "      <td>1</td>\n",
       "      <td>0.10</td>\n",
       "      <td>97.9750</td>\n",
       "      <td>65.80</td>\n",
       "    </tr>\n",
       "    <tr>\n",
       "      <th>2</th>\n",
       "      <td>1</td>\n",
       "      <td>1.00</td>\n",
       "      <td>93.5250</td>\n",
       "      <td>62.30</td>\n",
       "    </tr>\n",
       "    <tr>\n",
       "      <th>3</th>\n",
       "      <td>1</td>\n",
       "      <td>10.00</td>\n",
       "      <td>89.5875</td>\n",
       "      <td>61.20</td>\n",
       "    </tr>\n",
       "    <tr>\n",
       "      <th>4</th>\n",
       "      <td>2</td>\n",
       "      <td>0.01</td>\n",
       "      <td>100.0000</td>\n",
       "      <td>66.10</td>\n",
       "    </tr>\n",
       "    <tr>\n",
       "      <th>5</th>\n",
       "      <td>2</td>\n",
       "      <td>0.10</td>\n",
       "      <td>100.0000</td>\n",
       "      <td>64.80</td>\n",
       "    </tr>\n",
       "    <tr>\n",
       "      <th>6</th>\n",
       "      <td>2</td>\n",
       "      <td>1.00</td>\n",
       "      <td>100.0000</td>\n",
       "      <td>66.35</td>\n",
       "    </tr>\n",
       "    <tr>\n",
       "      <th>7</th>\n",
       "      <td>2</td>\n",
       "      <td>10.00</td>\n",
       "      <td>99.8875</td>\n",
       "      <td>67.15</td>\n",
       "    </tr>\n",
       "    <tr>\n",
       "      <th>8</th>\n",
       "      <td>3</td>\n",
       "      <td>0.01</td>\n",
       "      <td>100.0000</td>\n",
       "      <td>64.80</td>\n",
       "    </tr>\n",
       "    <tr>\n",
       "      <th>9</th>\n",
       "      <td>3</td>\n",
       "      <td>0.10</td>\n",
       "      <td>100.0000</td>\n",
       "      <td>64.05</td>\n",
       "    </tr>\n",
       "    <tr>\n",
       "      <th>10</th>\n",
       "      <td>3</td>\n",
       "      <td>1.00</td>\n",
       "      <td>100.0000</td>\n",
       "      <td>64.10</td>\n",
       "    </tr>\n",
       "    <tr>\n",
       "      <th>11</th>\n",
       "      <td>3</td>\n",
       "      <td>10.00</td>\n",
       "      <td>100.0000</td>\n",
       "      <td>64.55</td>\n",
       "    </tr>\n",
       "    <tr>\n",
       "      <th>12</th>\n",
       "      <td>4</td>\n",
       "      <td>0.01</td>\n",
       "      <td>100.0000</td>\n",
       "      <td>63.65</td>\n",
       "    </tr>\n",
       "    <tr>\n",
       "      <th>13</th>\n",
       "      <td>4</td>\n",
       "      <td>0.10</td>\n",
       "      <td>100.0000</td>\n",
       "      <td>62.90</td>\n",
       "    </tr>\n",
       "    <tr>\n",
       "      <th>14</th>\n",
       "      <td>4</td>\n",
       "      <td>1.00</td>\n",
       "      <td>100.0000</td>\n",
       "      <td>61.60</td>\n",
       "    </tr>\n",
       "    <tr>\n",
       "      <th>15</th>\n",
       "      <td>4</td>\n",
       "      <td>10.00</td>\n",
       "      <td>100.0000</td>\n",
       "      <td>62.05</td>\n",
       "    </tr>\n",
       "  </tbody>\n",
       "</table>\n",
       "</div>"
      ],
      "text/plain": [
       "    degree  alpha     train    val\n",
       "0        1   0.01  100.0000  65.65\n",
       "1        1   0.10   97.9750  65.80\n",
       "2        1   1.00   93.5250  62.30\n",
       "3        1  10.00   89.5875  61.20\n",
       "4        2   0.01  100.0000  66.10\n",
       "5        2   0.10  100.0000  64.80\n",
       "6        2   1.00  100.0000  66.35\n",
       "7        2  10.00   99.8875  67.15\n",
       "8        3   0.01  100.0000  64.80\n",
       "9        3   0.10  100.0000  64.05\n",
       "10       3   1.00  100.0000  64.10\n",
       "11       3  10.00  100.0000  64.55\n",
       "12       4   0.01  100.0000  63.65\n",
       "13       4   0.10  100.0000  62.90\n",
       "14       4   1.00  100.0000  61.60\n",
       "15       4  10.00  100.0000  62.05"
      ]
     },
     "execution_count": 33,
     "metadata": {},
     "output_type": "execute_result"
    }
   ],
   "source": [
    "df2"
   ]
  },
  {
   "cell_type": "code",
   "execution_count": 34,
   "metadata": {},
   "outputs": [
    {
     "name": "stdout",
     "output_type": "stream",
     "text": [
      "2 10.0 67.15\n"
     ]
    }
   ],
   "source": [
    "best_degree_2, best_alpha_2, best_2 = get_best(df2)\n",
    "print(best_degree_2, best_alpha_2, best_2)"
   ]
  },
  {
   "cell_type": "code",
   "execution_count": 35,
   "metadata": {},
   "outputs": [
    {
     "name": "stdout",
     "output_type": "stream",
     "text": [
      "     pcost       dcost       gap    pres   dres\n",
      " 0: -4.2268e-02 -9.2269e-02  4e+03  6e+01  2e-15\n",
      " 1: -4.2268e-02 -9.2259e-02  4e+01  6e-01  1e-15\n",
      " 2: -4.2260e-02 -9.1325e-02  8e-01  1e-02  1e-15\n",
      " 3: -3.7738e-02 -7.4698e-02  1e-01  2e-03  1e-15\n",
      " 4: -3.0578e-02 -5.6923e-02  4e-02  3e-04  2e-15\n",
      " 5: -3.1298e-02 -3.4284e-02  3e-03  6e-06  1e-15\n",
      " 6: -3.2716e-02 -3.3140e-02  4e-04  7e-07  1e-15\n",
      " 7: -3.2923e-02 -3.2985e-02  6e-05  8e-08  9e-16\n",
      " 8: -3.2953e-02 -3.2961e-02  8e-06  8e-09  1e-15\n",
      " 9: -3.2957e-02 -3.2958e-02  9e-07  8e-10  1e-15\n",
      "10: -3.2958e-02 -3.2958e-02  3e-08  1e-11  1e-15\n",
      "Optimal solution found.\n",
      "     pcost       dcost       gap    pres   dres\n",
      " 0: -3.9123e-02 -8.9125e-02  4e+03  6e+01  2e-15\n",
      " 1: -3.9123e-02 -8.9117e-02  4e+01  6e-01  1e-15\n",
      " 2: -3.9117e-02 -8.8333e-02  8e-01  1e-02  1e-15\n",
      " 3: -3.5429e-02 -7.3293e-02  1e-01  2e-03  1e-15\n",
      " 4: -2.9481e-02 -5.5504e-02  4e-02  3e-04  2e-15\n",
      " 5: -3.0214e-02 -3.3167e-02  3e-03  5e-06  2e-15\n",
      " 6: -3.1626e-02 -3.2026e-02  4e-04  5e-07  1e-15\n",
      " 7: -3.1820e-02 -3.1879e-02  6e-05  6e-08  1e-15\n",
      " 8: -3.1848e-02 -3.1856e-02  7e-06  6e-09  1e-15\n",
      " 9: -3.1852e-02 -3.1852e-02  9e-07  7e-10  1e-15\n",
      "10: -3.1852e-02 -3.1852e-02  5e-08  3e-11  1e-15\n",
      "Optimal solution found.\n",
      "     pcost       dcost       gap    pres   dres\n",
      " 0: -3.6585e-02 -8.6587e-02  4e+03  6e+01  2e-15\n",
      " 1: -3.6585e-02 -8.6580e-02  4e+01  6e-01  1e-15\n",
      " 2: -3.6580e-02 -8.5907e-02  8e-01  1e-02  1e-15\n",
      " 3: -3.3500e-02 -7.2053e-02  1e-01  2e-03  1e-15\n",
      " 4: -2.8534e-02 -5.4353e-02  4e-02  3e-04  2e-15\n",
      " 5: -2.9196e-02 -3.2249e-02  3e-03  3e-06  2e-15\n",
      " 6: -3.0623e-02 -3.1031e-02  4e-04  3e-07  1e-15\n",
      " 7: -3.0820e-02 -3.0877e-02  6e-05  3e-08  1e-15\n",
      " 8: -3.0846e-02 -3.0854e-02  7e-06  3e-09  1e-15\n",
      " 9: -3.0850e-02 -3.0850e-02  3e-07  1e-10  1e-15\n",
      "10: -3.0850e-02 -3.0850e-02  2e-08  4e-12  1e-15\n",
      "Optimal solution found.\n",
      "     pcost       dcost       gap    pres   dres\n",
      " 0: -3.4521e-02 -8.4523e-02  4e+03  6e+01  2e-15\n",
      " 1: -3.4521e-02 -8.4517e-02  4e+01  6e-01  1e-15\n",
      " 2: -3.4517e-02 -8.3926e-02  7e-01  1e-02  1e-15\n",
      " 3: -3.1890e-02 -7.0969e-02  1e-01  1e-03  1e-15\n",
      " 4: -2.7672e-02 -5.3306e-02  4e-02  3e-04  1e-15\n",
      " 5: -2.8293e-02 -3.1563e-02  3e-03  2e-06  2e-15\n",
      " 6: -2.9721e-02 -3.0141e-02  4e-04  2e-07  1e-15\n",
      " 7: -2.9921e-02 -2.9976e-02  6e-05  2e-08  1e-15\n",
      " 8: -2.9946e-02 -2.9954e-02  7e-06  2e-09  1e-15\n",
      " 9: -2.9950e-02 -2.9950e-02  3e-07  7e-11  1e-15\n",
      "10: -2.9950e-02 -2.9950e-02  8e-09  1e-12  1e-15\n",
      "Optimal solution found.\n",
      "     pcost       dcost       gap    pres   dres\n",
      " 0: -3.2829e-02 -8.2831e-02  4e+03  6e+01  2e-15\n",
      " 1: -3.2829e-02 -8.2826e-02  4e+01  6e-01  1e-15\n",
      " 2: -3.2826e-02 -8.2298e-02  7e-01  1e-02  1e-15\n",
      " 3: -3.0542e-02 -7.0028e-02  1e-01  1e-03  1e-15\n",
      " 4: -2.6902e-02 -5.2367e-02  4e-02  3e-04  2e-15\n",
      " 5: -2.7490e-02 -3.1247e-02  4e-03  6e-06  1e-15\n",
      " 6: -2.8902e-02 -2.9367e-02  5e-04  5e-07  1e-15\n",
      " 7: -2.9117e-02 -2.9173e-02  6e-05  5e-08  1e-15\n",
      " 8: -2.9142e-02 -2.9149e-02  7e-06  5e-09  1e-15\n",
      " 9: -2.9145e-02 -2.9146e-02  3e-07  1e-10  1e-15\n",
      "10: -2.9146e-02 -2.9146e-02  1e-08  3e-12  1e-15\n",
      "Optimal solution found.\n"
     ]
    }
   ],
   "source": [
    "clf2 = MultiKerOpt(alpha=best_alpha_2, tol=1e-07, degree=best_degree_2, method='svm')\n",
    "clf2.fit(K_xx_2, y_train_2, n_iter=5)\n",
    "y_pred_2 = clf2.predict(X_yx_2)"
   ]
  },
  {
   "cell_type": "code",
   "execution_count": 36,
   "metadata": {},
   "outputs": [
    {
     "name": "stdout",
     "output_type": "stream",
     "text": [
      "0.4995 0.424\n"
     ]
    }
   ],
   "source": [
    "print(y_train_2.mean(), y_pred_2.mean())"
   ]
  },
  {
   "cell_type": "code",
   "execution_count": null,
   "metadata": {},
   "outputs": [],
   "source": []
  },
  {
   "cell_type": "markdown",
   "metadata": {},
   "source": [
    "## PREDICTIONS FILES"
   ]
  },
  {
   "cell_type": "code",
   "execution_count": 37,
   "metadata": {},
   "outputs": [
    {
     "name": "stdout",
     "output_type": "stream",
     "text": [
      "68.66666666666666\n"
     ]
    }
   ],
   "source": [
    "exp_score = (1/3)*(best_0 + best_1 + best_2)\n",
    "print(exp_score)"
   ]
  },
  {
   "cell_type": "code",
   "execution_count": null,
   "metadata": {},
   "outputs": [],
   "source": []
  },
  {
   "cell_type": "code",
   "execution_count": 38,
   "metadata": {},
   "outputs": [],
   "source": [
    "y_pred = np.hstack((y_pred_0, y_pred_1, y_pred_2)).astype(int)"
   ]
  },
  {
   "cell_type": "code",
   "execution_count": 39,
   "metadata": {},
   "outputs": [
    {
     "data": {
      "text/plain": [
       "array([1, 0, 1, ..., 1, 0, 0])"
      ]
     },
     "execution_count": 39,
     "metadata": {},
     "output_type": "execute_result"
    }
   ],
   "source": [
    "y_pred"
   ]
  },
  {
   "cell_type": "code",
   "execution_count": 40,
   "metadata": {},
   "outputs": [],
   "source": [
    "Ids = np.array(range(3000))"
   ]
  },
  {
   "cell_type": "code",
   "execution_count": 41,
   "metadata": {},
   "outputs": [],
   "source": [
    "predictions = pd.DataFrame({'Id':Ids, 'Bound':y_pred.flatten()})"
   ]
  },
  {
   "cell_type": "code",
   "execution_count": 42,
   "metadata": {},
   "outputs": [
    {
     "data": {
      "text/html": [
       "<div>\n",
       "<style scoped>\n",
       "    .dataframe tbody tr th:only-of-type {\n",
       "        vertical-align: middle;\n",
       "    }\n",
       "\n",
       "    .dataframe tbody tr th {\n",
       "        vertical-align: top;\n",
       "    }\n",
       "\n",
       "    .dataframe thead th {\n",
       "        text-align: right;\n",
       "    }\n",
       "</style>\n",
       "<table border=\"1\" class=\"dataframe\">\n",
       "  <thead>\n",
       "    <tr style=\"text-align: right;\">\n",
       "      <th></th>\n",
       "      <th>Id</th>\n",
       "      <th>Bound</th>\n",
       "    </tr>\n",
       "  </thead>\n",
       "  <tbody>\n",
       "    <tr>\n",
       "      <th>0</th>\n",
       "      <td>0</td>\n",
       "      <td>1</td>\n",
       "    </tr>\n",
       "    <tr>\n",
       "      <th>1</th>\n",
       "      <td>1</td>\n",
       "      <td>0</td>\n",
       "    </tr>\n",
       "    <tr>\n",
       "      <th>2</th>\n",
       "      <td>2</td>\n",
       "      <td>1</td>\n",
       "    </tr>\n",
       "    <tr>\n",
       "      <th>3</th>\n",
       "      <td>3</td>\n",
       "      <td>1</td>\n",
       "    </tr>\n",
       "    <tr>\n",
       "      <th>4</th>\n",
       "      <td>4</td>\n",
       "      <td>0</td>\n",
       "    </tr>\n",
       "  </tbody>\n",
       "</table>\n",
       "</div>"
      ],
      "text/plain": [
       "   Id  Bound\n",
       "0   0      1\n",
       "1   1      0\n",
       "2   2      1\n",
       "3   3      1\n",
       "4   4      0"
      ]
     },
     "execution_count": 42,
     "metadata": {},
     "output_type": "execute_result"
    }
   ],
   "source": [
    "predictions.head()"
   ]
  },
  {
   "cell_type": "code",
   "execution_count": null,
   "metadata": {},
   "outputs": [],
   "source": [
    "labels_train.head()"
   ]
  },
  {
   "cell_type": "code",
   "execution_count": 43,
   "metadata": {},
   "outputs": [],
   "source": [
    "predictions.to_csv('predictions9.csv', index=False)"
   ]
  },
  {
   "cell_type": "code",
   "execution_count": null,
   "metadata": {},
   "outputs": [],
   "source": []
  }
 ],
 "metadata": {
  "kernelspec": {
   "display_name": "Python 3",
   "language": "python",
   "name": "python3"
  },
  "language_info": {
   "codemirror_mode": {
    "name": "ipython",
    "version": 3
   },
   "file_extension": ".py",
   "mimetype": "text/x-python",
   "name": "python",
   "nbconvert_exporter": "python",
   "pygments_lexer": "ipython3",
   "version": "3.6.7"
  }
 },
 "nbformat": 4,
 "nbformat_minor": 2
}
